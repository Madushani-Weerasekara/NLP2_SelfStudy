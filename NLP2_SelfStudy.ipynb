{
  "nbformat": 4,
  "nbformat_minor": 0,
  "metadata": {
    "colab": {
      "provenance": [],
      "authorship_tag": "ABX9TyOgEll0/JIOWKRazexjyTiV",
      "include_colab_link": true
    },
    "kernelspec": {
      "name": "python3",
      "display_name": "Python 3"
    },
    "language_info": {
      "name": "python"
    }
  },
  "cells": [
    {
      "cell_type": "markdown",
      "metadata": {
        "id": "view-in-github",
        "colab_type": "text"
      },
      "source": [
        "<a href=\"https://colab.research.google.com/github/Madushani-Weerasekara/NLP2_SelfStudy/blob/main/NLP2_SelfStudy.ipynb\" target=\"_parent\"><img src=\"https://colab.research.google.com/assets/colab-badge.svg\" alt=\"Open In Colab\"/></a>"
      ]
    },
    {
      "cell_type": "code",
      "execution_count": null,
      "metadata": {
        "colab": {
          "base_uri": "https://localhost:8080/"
        },
        "id": "Nt0pohPVWoCO",
        "outputId": "aff216df-2210-4f69-91b6-3cf1feec4a00"
      },
      "outputs": [
        {
          "output_type": "stream",
          "name": "stdout",
          "text": [
            "Requirement already satisfied: nltk in /usr/local/lib/python3.10/dist-packages (3.8.1)\n",
            "Requirement already satisfied: click in /usr/local/lib/python3.10/dist-packages (from nltk) (8.1.7)\n",
            "Requirement already satisfied: joblib in /usr/local/lib/python3.10/dist-packages (from nltk) (1.3.2)\n",
            "Requirement already satisfied: regex>=2021.8.3 in /usr/local/lib/python3.10/dist-packages (from nltk) (2023.6.3)\n",
            "Requirement already satisfied: tqdm in /usr/local/lib/python3.10/dist-packages (from nltk) (4.66.1)\n"
          ]
        }
      ],
      "source": [
        "pip install nltk\n"
      ]
    },
    {
      "cell_type": "code",
      "source": [
        "# import librarie\n",
        "import nltk\n",
        "from nltk.corpus import stopwords\n",
        "from nltk.tokenize import sent_tokenize, word_tokenize\n",
        "from nltk.stem import PorterStemmer, WordNetLemmatizer"
      ],
      "metadata": {
        "id": "mGnTl8jBaU8g"
      },
      "execution_count": null,
      "outputs": []
    },
    {
      "cell_type": "code",
      "source": [
        "nltk.download('punkt')\n",
        "nltk.download('stopwords')\n",
        "nltk.download('wordnet')"
      ],
      "metadata": {
        "colab": {
          "base_uri": "https://localhost:8080/"
        },
        "id": "MAqgREq8Y7nB",
        "outputId": "b27bb38c-5d8a-4141-d07d-7cd23945429e"
      },
      "execution_count": null,
      "outputs": [
        {
          "output_type": "stream",
          "name": "stderr",
          "text": [
            "[nltk_data] Downloading package punkt to /root/nltk_data...\n",
            "[nltk_data]   Package punkt is already up-to-date!\n",
            "[nltk_data] Downloading package stopwords to /root/nltk_data...\n",
            "[nltk_data]   Package stopwords is already up-to-date!\n",
            "[nltk_data] Downloading package wordnet to /root/nltk_data...\n",
            "[nltk_data]   Package wordnet is already up-to-date!\n"
          ]
        },
        {
          "output_type": "execute_result",
          "data": {
            "text/plain": [
              "True"
            ]
          },
          "metadata": {},
          "execution_count": 175
        }
      ]
    },
    {
      "cell_type": "code",
      "source": [],
      "metadata": {
        "id": "In9dpCu4bgaS"
      },
      "execution_count": null,
      "outputs": []
    },
    {
      "cell_type": "code",
      "source": [
        "# Tokenization\n",
        "# cnvert paragraph into sentences\n",
        "sentences = nltk.sent_tokenize(paragraph)\n",
        "print(sentences)\n",
        "\n"
      ],
      "metadata": {
        "colab": {
          "base_uri": "https://localhost:8080/"
        },
        "id": "2R_s8DOmcMSn",
        "outputId": "aec6389e-7cdc-48ff-9162-dcd6ac94f583"
      },
      "execution_count": null,
      "outputs": [
        {
          "output_type": "stream",
          "name": "stdout",
          "text": [
            "['Mark Elliot Zuckerberg (/ˈzʌkərbɜːrɡ/; born May 14, 1984) is an American business magnate, computer programmer, internet entrepreneur, and philanthropist.', 'He co-founded the social media service Facebook and its parent company Meta Platforms (formerly Facebook, Inc.), of which he is executive chairman, chief executive officer and controlling shareholder.', '[1][2]\\n\\nZuckerberg attended Harvard University, where he launched Facebook in February 2004 with his roommates Eduardo Saverin, Andrew McCollum, Dustin Moskovitz and Chris Hughes.', 'Originally launched in only select college campuses, the site expanded rapidly and eventually beyond colleges, reaching one billion users in 2012.', 'Zuckerberg took the company public in May 2012 with majority shares.', \"In 2007, at age 23, he became the world's youngest self-made billionaire.\", 'He has since used his funds to organize multiple philanthropic endeavors, including the establishment of the Chan Zuckerberg Initiative.', 'Zuckerberg has been listed as one of the most influential people in the world on four occasions in 2008, 2011, 2016 and 2019 respectively and nominated as a finalist in 2009, 2012, 2014, 2015, 2017, 2018, 2020, 2021 and 2022.', 'He was named Person of the Year by Time magazine in 2010, the same year when Facebook eclipsed more than half a billion users.', \"[3][4][5] In December 2016, Zuckerberg was ranked tenth on the Forbes list of The World's Most Powerful People.\", '[6] In the Forbes 400 list of wealthiest Americans in 2023, he was ranked eighth with a personal wealth of $106 billion.', \"[7] As of November 2023, Zuckerberg's net worth was estimated at $107 billion by Forbes, making him the seventh richest person in the world.\", \"[8] A film depicting Zuckerberg's early career, legal troubles and initial success with the site, The Social Network, was released in 2010 and won multiple Academy Awards.\"]\n"
          ]
        }
      ]
    },
    {
      "cell_type": "code",
      "source": [
        "len(sentences)"
      ],
      "metadata": {
        "colab": {
          "base_uri": "https://localhost:8080/"
        },
        "id": "J5ZXnwO0roS9",
        "outputId": "6360eac4-0725-4749-eaea-2f1d28f00952"
      },
      "execution_count": null,
      "outputs": [
        {
          "output_type": "execute_result",
          "data": {
            "text/plain": [
              "13"
            ]
          },
          "metadata": {},
          "execution_count": 177
        }
      ]
    },
    {
      "cell_type": "code",
      "source": [
        "# Split sentences into words\n",
        "for sentence in sentences:\n",
        "  words = nltk.word_tokenize(sentence)\n",
        "  print(words)"
      ],
      "metadata": {
        "colab": {
          "base_uri": "https://localhost:8080/"
        },
        "id": "AQrFKWxvw4Z6",
        "outputId": "5142e63d-99b5-4e36-a3b5-45fc92f32948"
      },
      "execution_count": null,
      "outputs": [
        {
          "output_type": "stream",
          "name": "stdout",
          "text": [
            "['Mark', 'Elliot', 'Zuckerberg', '(', '/ˈzʌkərbɜːrɡ/', ';', 'born', 'May', '14', ',', '1984', ')', 'is', 'an', 'American', 'business', 'magnate', ',', 'computer', 'programmer', ',', 'internet', 'entrepreneur', ',', 'and', 'philanthropist', '.']\n",
            "['He', 'co-founded', 'the', 'social', 'media', 'service', 'Facebook', 'and', 'its', 'parent', 'company', 'Meta', 'Platforms', '(', 'formerly', 'Facebook', ',', 'Inc.', ')', ',', 'of', 'which', 'he', 'is', 'executive', 'chairman', ',', 'chief', 'executive', 'officer', 'and', 'controlling', 'shareholder', '.']\n",
            "['[', '1', ']', '[', '2', ']', 'Zuckerberg', 'attended', 'Harvard', 'University', ',', 'where', 'he', 'launched', 'Facebook', 'in', 'February', '2004', 'with', 'his', 'roommates', 'Eduardo', 'Saverin', ',', 'Andrew', 'McCollum', ',', 'Dustin', 'Moskovitz', 'and', 'Chris', 'Hughes', '.']\n",
            "['Originally', 'launched', 'in', 'only', 'select', 'college', 'campuses', ',', 'the', 'site', 'expanded', 'rapidly', 'and', 'eventually', 'beyond', 'colleges', ',', 'reaching', 'one', 'billion', 'users', 'in', '2012', '.']\n",
            "['Zuckerberg', 'took', 'the', 'company', 'public', 'in', 'May', '2012', 'with', 'majority', 'shares', '.']\n",
            "['In', '2007', ',', 'at', 'age', '23', ',', 'he', 'became', 'the', 'world', \"'s\", 'youngest', 'self-made', 'billionaire', '.']\n",
            "['He', 'has', 'since', 'used', 'his', 'funds', 'to', 'organize', 'multiple', 'philanthropic', 'endeavors', ',', 'including', 'the', 'establishment', 'of', 'the', 'Chan', 'Zuckerberg', 'Initiative', '.']\n",
            "['Zuckerberg', 'has', 'been', 'listed', 'as', 'one', 'of', 'the', 'most', 'influential', 'people', 'in', 'the', 'world', 'on', 'four', 'occasions', 'in', '2008', ',', '2011', ',', '2016', 'and', '2019', 'respectively', 'and', 'nominated', 'as', 'a', 'finalist', 'in', '2009', ',', '2012', ',', '2014', ',', '2015', ',', '2017', ',', '2018', ',', '2020', ',', '2021', 'and', '2022', '.']\n",
            "['He', 'was', 'named', 'Person', 'of', 'the', 'Year', 'by', 'Time', 'magazine', 'in', '2010', ',', 'the', 'same', 'year', 'when', 'Facebook', 'eclipsed', 'more', 'than', 'half', 'a', 'billion', 'users', '.']\n",
            "['[', '3', ']', '[', '4', ']', '[', '5', ']', 'In', 'December', '2016', ',', 'Zuckerberg', 'was', 'ranked', 'tenth', 'on', 'the', 'Forbes', 'list', 'of', 'The', 'World', \"'s\", 'Most', 'Powerful', 'People', '.']\n",
            "['[', '6', ']', 'In', 'the', 'Forbes', '400', 'list', 'of', 'wealthiest', 'Americans', 'in', '2023', ',', 'he', 'was', 'ranked', 'eighth', 'with', 'a', 'personal', 'wealth', 'of', '$', '106', 'billion', '.']\n",
            "['[', '7', ']', 'As', 'of', 'November', '2023', ',', 'Zuckerberg', \"'s\", 'net', 'worth', 'was', 'estimated', 'at', '$', '107', 'billion', 'by', 'Forbes', ',', 'making', 'him', 'the', 'seventh', 'richest', 'person', 'in', 'the', 'world', '.']\n",
            "['[', '8', ']', 'A', 'film', 'depicting', 'Zuckerberg', \"'s\", 'early', 'career', ',', 'legal', 'troubles', 'and', 'initial', 'success', 'with', 'the', 'site', ',', 'The', 'Social', 'Network', ',', 'was', 'released', 'in', '2010', 'and', 'won', 'multiple', 'Academy', 'Awards', '.']\n"
          ]
        }
      ]
    },
    {
      "cell_type": "code",
      "source": [
        "# clean the text using re\n",
        "import re\n",
        "for i in range(len(sentences)):\n",
        "  stop_words = set (stopwords.words('english'))\n",
        "  cleaned_text = re.sub('[^a-zA-Z]', \" \", sentences[i])\n",
        "  cleaned_text = cleaned_text.lower()\n",
        "  cleaned_text = cleaned_text.split()\n",
        "  cleaned_text = [word for word in cleaned_text if word not in stop_words]\n",
        "  print(cleaned_text)\n",
        "\n",
        "\n"
      ],
      "metadata": {
        "colab": {
          "base_uri": "https://localhost:8080/"
        },
        "id": "K6g2sREWxWEn",
        "outputId": "c64ca5af-f9c3-400f-f00e-9dc423b729ea"
      },
      "execution_count": null,
      "outputs": [
        {
          "output_type": "stream",
          "name": "stdout",
          "text": [
            "['mark', 'elliot', 'zuckerberg', 'z', 'k', 'rb', 'r', 'born', 'may', 'american', 'business', 'magnate', 'computer', 'programmer', 'internet', 'entrepreneur', 'philanthropist']\n",
            "['co', 'founded', 'social', 'media', 'service', 'facebook', 'parent', 'company', 'meta', 'platforms', 'formerly', 'facebook', 'inc', 'executive', 'chairman', 'chief', 'executive', 'officer', 'controlling', 'shareholder']\n",
            "['zuckerberg', 'attended', 'harvard', 'university', 'launched', 'facebook', 'february', 'roommates', 'eduardo', 'saverin', 'andrew', 'mccollum', 'dustin', 'moskovitz', 'chris', 'hughes']\n",
            "['originally', 'launched', 'select', 'college', 'campuses', 'site', 'expanded', 'rapidly', 'eventually', 'beyond', 'colleges', 'reaching', 'one', 'billion', 'users']\n",
            "['zuckerberg', 'took', 'company', 'public', 'may', 'majority', 'shares']\n",
            "['age', 'became', 'world', 'youngest', 'self', 'made', 'billionaire']\n",
            "['since', 'used', 'funds', 'organize', 'multiple', 'philanthropic', 'endeavors', 'including', 'establishment', 'chan', 'zuckerberg', 'initiative']\n",
            "['zuckerberg', 'listed', 'one', 'influential', 'people', 'world', 'four', 'occasions', 'respectively', 'nominated', 'finalist']\n",
            "['named', 'person', 'year', 'time', 'magazine', 'year', 'facebook', 'eclipsed', 'half', 'billion', 'users']\n",
            "['december', 'zuckerberg', 'ranked', 'tenth', 'forbes', 'list', 'world', 'powerful', 'people']\n",
            "['forbes', 'list', 'wealthiest', 'americans', 'ranked', 'eighth', 'personal', 'wealth', 'billion']\n",
            "['november', 'zuckerberg', 'net', 'worth', 'estimated', 'billion', 'forbes', 'making', 'seventh', 'richest', 'person', 'world']\n",
            "['film', 'depicting', 'zuckerberg', 'early', 'career', 'legal', 'troubles', 'initial', 'success', 'site', 'social', 'network', 'released', 'multiple', 'academy', 'awards']\n"
          ]
        }
      ]
    },
    {
      "cell_type": "code",
      "source": [
        "len(sentences)"
      ],
      "metadata": {
        "colab": {
          "base_uri": "https://localhost:8080/"
        },
        "id": "tn6sfHkA4xOS",
        "outputId": "b928f044-1ea4-474f-8878-2e562d1b1fbd"
      },
      "execution_count": null,
      "outputs": [
        {
          "output_type": "execute_result",
          "data": {
            "text/plain": [
              "13"
            ]
          },
          "metadata": {},
          "execution_count": 180
        }
      ]
    },
    {
      "cell_type": "code",
      "source": [
        "#apply stemming\n",
        "\n",
        "stemmer = PorterStemmer()\n",
        "\n",
        "for word in words:\n",
        "  if word not in set(stopwords.words('english')):\n",
        "    stemmed_words = stemmer.stem(word)\n",
        "    print(stemmed_words)"
      ],
      "metadata": {
        "colab": {
          "base_uri": "https://localhost:8080/"
        },
        "id": "nETPpBWR1pPj",
        "outputId": "07ef30a3-faf5-4c7a-da62-8b9d4c963296"
      },
      "execution_count": null,
      "outputs": [
        {
          "output_type": "stream",
          "name": "stdout",
          "text": [
            "[\n",
            "8\n",
            "]\n",
            "a\n",
            "film\n",
            "depict\n",
            "zuckerberg\n",
            "'s\n",
            "earli\n",
            "career\n",
            ",\n",
            "legal\n",
            "troubl\n",
            "initi\n",
            "success\n",
            "site\n",
            ",\n",
            "the\n",
            "social\n",
            "network\n",
            ",\n",
            "releas\n",
            "2010\n",
            "multipl\n",
            "academi\n",
            "award\n",
            ".\n"
          ]
        }
      ]
    },
    {
      "cell_type": "code",
      "source": [
        "# Apply lemmatization\n",
        "\n",
        "lemmatizer = WordNetLemmatizer()\n",
        "\n",
        "for i in range(len(sentences)):\n",
        "  for word in words:\n",
        "    if word not in set(stopwords.words('english')):\n",
        "      lemmatized_word = lemmatizer.lemmatize(word)\n",
        "      print(lemmatized_word)"
      ],
      "metadata": {
        "colab": {
          "base_uri": "https://localhost:8080/"
        },
        "id": "b_B9kDg_3XST",
        "outputId": "2d8e57cd-be9a-4b7c-c693-b337b4ec0a2b"
      },
      "execution_count": null,
      "outputs": [
        {
          "output_type": "stream",
          "name": "stdout",
          "text": [
            "[\n",
            "8\n",
            "]\n",
            "A\n",
            "film\n",
            "depicting\n",
            "Zuckerberg\n",
            "'s\n",
            "early\n",
            "career\n",
            ",\n",
            "legal\n",
            "trouble\n",
            "initial\n",
            "success\n",
            "site\n",
            ",\n",
            "The\n",
            "Social\n",
            "Network\n",
            ",\n",
            "released\n",
            "2010\n",
            "multiple\n",
            "Academy\n",
            "Awards\n",
            ".\n",
            "[\n",
            "8\n",
            "]\n",
            "A\n",
            "film\n",
            "depicting\n",
            "Zuckerberg\n",
            "'s\n",
            "early\n",
            "career\n",
            ",\n",
            "legal\n",
            "trouble\n",
            "initial\n",
            "success\n",
            "site\n",
            ",\n",
            "The\n",
            "Social\n",
            "Network\n",
            ",\n",
            "released\n",
            "2010\n",
            "multiple\n",
            "Academy\n",
            "Awards\n",
            ".\n",
            "[\n",
            "8\n",
            "]\n",
            "A\n",
            "film\n",
            "depicting\n",
            "Zuckerberg\n",
            "'s\n",
            "early\n",
            "career\n",
            ",\n",
            "legal\n",
            "trouble\n",
            "initial\n",
            "success\n",
            "site\n",
            ",\n",
            "The\n",
            "Social\n",
            "Network\n",
            ",\n",
            "released\n",
            "2010\n",
            "multiple\n",
            "Academy\n",
            "Awards\n",
            ".\n",
            "[\n",
            "8\n",
            "]\n",
            "A\n",
            "film\n",
            "depicting\n",
            "Zuckerberg\n",
            "'s\n",
            "early\n",
            "career\n",
            ",\n",
            "legal\n",
            "trouble\n",
            "initial\n",
            "success\n",
            "site\n",
            ",\n",
            "The\n",
            "Social\n",
            "Network\n",
            ",\n",
            "released\n",
            "2010\n",
            "multiple\n",
            "Academy\n",
            "Awards\n",
            ".\n",
            "[\n",
            "8\n",
            "]\n",
            "A\n",
            "film\n",
            "depicting\n",
            "Zuckerberg\n",
            "'s\n",
            "early\n",
            "career\n",
            ",\n",
            "legal\n",
            "trouble\n",
            "initial\n",
            "success\n",
            "site\n",
            ",\n",
            "The\n",
            "Social\n",
            "Network\n",
            ",\n",
            "released\n",
            "2010\n",
            "multiple\n",
            "Academy\n",
            "Awards\n",
            ".\n",
            "[\n",
            "8\n",
            "]\n",
            "A\n",
            "film\n",
            "depicting\n",
            "Zuckerberg\n",
            "'s\n",
            "early\n",
            "career\n",
            ",\n",
            "legal\n",
            "trouble\n",
            "initial\n",
            "success\n",
            "site\n",
            ",\n",
            "The\n",
            "Social\n",
            "Network\n",
            ",\n",
            "released\n",
            "2010\n",
            "multiple\n",
            "Academy\n",
            "Awards\n",
            ".\n",
            "[\n",
            "8\n",
            "]\n",
            "A\n",
            "film\n",
            "depicting\n",
            "Zuckerberg\n",
            "'s\n",
            "early\n",
            "career\n",
            ",\n",
            "legal\n",
            "trouble\n",
            "initial\n",
            "success\n",
            "site\n",
            ",\n",
            "The\n",
            "Social\n",
            "Network\n",
            ",\n",
            "released\n",
            "2010\n",
            "multiple\n",
            "Academy\n",
            "Awards\n",
            ".\n",
            "[\n",
            "8\n",
            "]\n",
            "A\n",
            "film\n",
            "depicting\n",
            "Zuckerberg\n",
            "'s\n",
            "early\n",
            "career\n",
            ",\n",
            "legal\n",
            "trouble\n",
            "initial\n",
            "success\n",
            "site\n",
            ",\n",
            "The\n",
            "Social\n",
            "Network\n",
            ",\n",
            "released\n",
            "2010\n",
            "multiple\n",
            "Academy\n",
            "Awards\n",
            ".\n",
            "[\n",
            "8\n",
            "]\n",
            "A\n",
            "film\n",
            "depicting\n",
            "Zuckerberg\n",
            "'s\n",
            "early\n",
            "career\n",
            ",\n",
            "legal\n",
            "trouble\n",
            "initial\n",
            "success\n",
            "site\n",
            ",\n",
            "The\n",
            "Social\n",
            "Network\n",
            ",\n",
            "released\n",
            "2010\n",
            "multiple\n",
            "Academy\n",
            "Awards\n",
            ".\n",
            "[\n",
            "8\n",
            "]\n",
            "A\n",
            "film\n",
            "depicting\n",
            "Zuckerberg\n",
            "'s\n",
            "early\n",
            "career\n",
            ",\n",
            "legal\n",
            "trouble\n",
            "initial\n",
            "success\n",
            "site\n",
            ",\n",
            "The\n",
            "Social\n",
            "Network\n",
            ",\n",
            "released\n",
            "2010\n",
            "multiple\n",
            "Academy\n",
            "Awards\n",
            ".\n",
            "[\n",
            "8\n",
            "]\n",
            "A\n",
            "film\n",
            "depicting\n",
            "Zuckerberg\n",
            "'s\n",
            "early\n",
            "career\n",
            ",\n",
            "legal\n",
            "trouble\n",
            "initial\n",
            "success\n",
            "site\n",
            ",\n",
            "The\n",
            "Social\n",
            "Network\n",
            ",\n",
            "released\n",
            "2010\n",
            "multiple\n",
            "Academy\n",
            "Awards\n",
            ".\n",
            "[\n",
            "8\n",
            "]\n",
            "A\n",
            "film\n",
            "depicting\n",
            "Zuckerberg\n",
            "'s\n",
            "early\n",
            "career\n",
            ",\n",
            "legal\n",
            "trouble\n",
            "initial\n",
            "success\n",
            "site\n",
            ",\n",
            "The\n",
            "Social\n",
            "Network\n",
            ",\n",
            "released\n",
            "2010\n",
            "multiple\n",
            "Academy\n",
            "Awards\n",
            ".\n",
            "[\n",
            "8\n",
            "]\n",
            "A\n",
            "film\n",
            "depicting\n",
            "Zuckerberg\n",
            "'s\n",
            "early\n",
            "career\n",
            ",\n",
            "legal\n",
            "trouble\n",
            "initial\n",
            "success\n",
            "site\n",
            ",\n",
            "The\n",
            "Social\n",
            "Network\n",
            ",\n",
            "released\n",
            "2010\n",
            "multiple\n",
            "Academy\n",
            "Awards\n",
            ".\n"
          ]
        }
      ]
    },
    {
      "cell_type": "code",
      "source": [
        "#Apply BOW\n",
        "# CountVectorizer --> Convert a collection of text documents to a matrix of token counts.\n",
        "from sklearn.feature_extraction.text import CountVectorizer\n",
        "cv = CountVectorizer(binary=True, ngram_range = (2,3))\n",
        "\n"
      ],
      "metadata": {
        "id": "aFihMeAH43-S"
      },
      "execution_count": null,
      "outputs": []
    },
    {
      "cell_type": "code",
      "source": [
        "x = cv.fit_transform(sentences)\n"
      ],
      "metadata": {
        "id": "oVxYeoHdGpsI"
      },
      "execution_count": null,
      "outputs": []
    },
    {
      "cell_type": "code",
      "source": [
        "print(x.toarray())"
      ],
      "metadata": {
        "colab": {
          "base_uri": "https://localhost:8080/"
        },
        "id": "-x31DVFCGFcq",
        "outputId": "842ca368-c4cf-4bc4-ba02-366675f64071"
      },
      "execution_count": null,
      "outputs": [
        {
          "output_type": "stream",
          "name": "stdout",
          "text": [
            "[[0 1 1 ... 0 1 1]\n",
            " [0 0 0 ... 0 0 0]\n",
            " [0 0 0 ... 0 0 0]\n",
            " ...\n",
            " [0 0 0 ... 0 0 0]\n",
            " [1 0 0 ... 0 0 0]\n",
            " [0 0 0 ... 0 0 0]]\n"
          ]
        }
      ]
    },
    {
      "cell_type": "code",
      "source": [
        "cv.vocabulary_"
      ],
      "metadata": {
        "id": "MzDgD_X_7EcQ",
        "colab": {
          "base_uri": "https://localhost:8080/"
        },
        "outputId": "1f8dd986-0bc8-4046-9549-853a597d68d2"
      },
      "execution_count": null,
      "outputs": [
        {
          "output_type": "execute_result",
          "data": {
            "text/plain": [
              "{'mark elliot zuckerberg': 137,\n",
              " 'elliot zuckerberg ˈzʌkərbɜːrɡ': 71,\n",
              " 'zuckerberg ˈzʌkərbɜːrɡ born': 253,\n",
              " 'ˈzʌkərbɜːrɡ born may': 254,\n",
              " 'born may 14': 49,\n",
              " 'may 14 1984': 138,\n",
              " '14 1984 is': 1,\n",
              " '1984 is an': 2,\n",
              " 'is an american': 125,\n",
              " 'an american business': 28,\n",
              " 'american business magnate': 26,\n",
              " 'business magnate computer': 50,\n",
              " 'magnate computer programmer': 135,\n",
              " 'computer programmer internet': 63,\n",
              " 'programmer internet entrepreneur': 178,\n",
              " 'internet entrepreneur and': 124,\n",
              " 'entrepreneur and philanthropist': 73,\n",
              " 'he co founded': 99,\n",
              " 'co founded the': 58,\n",
              " 'founded the social': 91,\n",
              " 'the social media': 212,\n",
              " 'social media service': 197,\n",
              " 'media service facebook': 141,\n",
              " 'service facebook and': 192,\n",
              " 'facebook and its': 80,\n",
              " 'and its parent': 34,\n",
              " 'its parent company': 127,\n",
              " 'parent company meta': 171,\n",
              " 'company meta platforms': 61,\n",
              " 'meta platforms formerly': 142,\n",
              " 'platforms formerly facebook': 177,\n",
              " 'formerly facebook inc': 90,\n",
              " 'facebook inc of': 83,\n",
              " 'inc of which': 120,\n",
              " 'of which he': 162,\n",
              " 'which he is': 234,\n",
              " 'he is executive': 101,\n",
              " 'is executive chairman': 126,\n",
              " 'executive chairman chief': 77,\n",
              " 'chairman chief executive': 55,\n",
              " 'chief executive officer': 57,\n",
              " 'executive officer and': 78,\n",
              " 'officer and controlling': 163,\n",
              " 'and controlling shareholder': 31,\n",
              " 'zuckerberg attended harvard': 247,\n",
              " 'attended harvard university': 43,\n",
              " 'harvard university where': 95,\n",
              " 'university where he': 222,\n",
              " 'where he launched': 233,\n",
              " 'he launched facebook': 102,\n",
              " 'launched facebook in': 128,\n",
              " 'facebook in february': 82,\n",
              " 'in february 2004': 115,\n",
              " 'february 2004 with': 84,\n",
              " '2004 with his': 3,\n",
              " 'with his roommates': 235,\n",
              " 'his roommates eduardo': 107,\n",
              " 'roommates eduardo saverin': 187,\n",
              " 'eduardo saverin andrew': 69,\n",
              " 'saverin andrew mccollum': 189,\n",
              " 'andrew mccollum dustin': 37,\n",
              " 'mccollum dustin moskovitz': 140,\n",
              " 'dustin moskovitz and': 66,\n",
              " 'moskovitz and chris': 144,\n",
              " 'and chris hughes': 30,\n",
              " 'originally launched in': 170,\n",
              " 'launched in only': 129,\n",
              " 'in only select': 117,\n",
              " 'only select college': 168,\n",
              " 'select college campuses': 190,\n",
              " 'college campuses the': 59,\n",
              " 'campuses the site': 53,\n",
              " 'the site expanded': 210,\n",
              " 'site expanded rapidly': 195,\n",
              " 'expanded rapidly and': 79,\n",
              " 'rapidly and eventually': 182,\n",
              " 'and eventually beyond': 32,\n",
              " 'eventually beyond colleges': 76,\n",
              " 'beyond colleges reaching': 46,\n",
              " 'colleges reaching one': 60,\n",
              " 'reaching one billion': 183,\n",
              " 'one billion users': 166,\n",
              " 'billion users in': 48,\n",
              " 'users in 2012': 224,\n",
              " 'zuckerberg took the': 251,\n",
              " 'took the company': 220,\n",
              " 'the company public': 203,\n",
              " 'company public in': 62,\n",
              " 'public in may': 179,\n",
              " 'in may 2012': 116,\n",
              " 'may 2012 with': 139,\n",
              " '2012 with majority': 11,\n",
              " 'with majority shares': 236,\n",
              " 'in 2007 at': 108,\n",
              " '2007 at age': 4,\n",
              " 'at age 23': 42,\n",
              " 'age 23 he': 25,\n",
              " '23 he became': 23,\n",
              " 'he became the': 98,\n",
              " 'became the world': 44,\n",
              " 'the world youngest': 216,\n",
              " 'world youngest self': 242,\n",
              " 'youngest self made': 246,\n",
              " 'self made billionaire': 191,\n",
              " 'he has since': 100,\n",
              " 'has since used': 97,\n",
              " 'since used his': 194,\n",
              " 'used his funds': 223,\n",
              " 'his funds to': 106,\n",
              " 'funds to organize': 93,\n",
              " 'to organize multiple': 219,\n",
              " 'organize multiple philanthropic': 169,\n",
              " 'multiple philanthropic endeavors': 148,\n",
              " 'philanthropic endeavors including': 176,\n",
              " 'endeavors including the': 72,\n",
              " 'including the establishment': 121,\n",
              " 'the establishment of': 204,\n",
              " 'establishment of the': 74,\n",
              " 'of the chan': 157,\n",
              " 'the chan zuckerberg': 202,\n",
              " 'chan zuckerberg initiative': 56,\n",
              " 'zuckerberg has been': 249,\n",
              " 'has been listed': 96,\n",
              " 'been listed as': 45,\n",
              " 'listed as one': 133,\n",
              " 'as one of': 40,\n",
              " 'one of the': 167,\n",
              " 'of the most': 158,\n",
              " 'the most influential': 207,\n",
              " 'most influential people': 145,\n",
              " 'influential people in': 122,\n",
              " 'people in the': 172,\n",
              " 'in the world': 119,\n",
              " 'the world on': 215,\n",
              " 'world on four': 241,\n",
              " 'on four occasions': 164,\n",
              " 'four occasions in': 92,\n",
              " 'occasions in 2008': 154,\n",
              " 'in 2008 2011': 109,\n",
              " '2008 2011 2016': 5,\n",
              " '2011 2016 and': 9,\n",
              " '2016 and 2019': 14,\n",
              " 'and 2019 respectively': 29,\n",
              " '2019 respectively and': 18,\n",
              " 'respectively and nominated': 185,\n",
              " 'and nominated as': 35,\n",
              " 'nominated as finalist': 152,\n",
              " 'as finalist in': 38,\n",
              " 'finalist in 2009': 86,\n",
              " 'in 2009 2012': 110,\n",
              " '2009 2012 2014': 6,\n",
              " '2012 2014 2015': 10,\n",
              " '2014 2015 2017': 12,\n",
              " '2015 2017 2018': 13,\n",
              " '2017 2018 2020': 16,\n",
              " '2018 2020 2021': 17,\n",
              " '2020 2021 and': 19,\n",
              " '2021 and 2022': 20,\n",
              " 'he was named': 103,\n",
              " 'was named person': 226,\n",
              " 'named person of': 149,\n",
              " 'person of the': 174,\n",
              " 'of the year': 160,\n",
              " 'the year by': 217,\n",
              " 'year by time': 244,\n",
              " 'by time magazine': 52,\n",
              " 'time magazine in': 218,\n",
              " 'magazine in 2010': 134,\n",
              " 'in 2010 the': 112,\n",
              " '2010 the same': 8,\n",
              " 'the same year': 208,\n",
              " 'same year when': 188,\n",
              " 'year when facebook': 245,\n",
              " 'when facebook eclipsed': 232,\n",
              " 'facebook eclipsed more': 81,\n",
              " 'eclipsed more than': 68,\n",
              " 'more than half': 143,\n",
              " 'than half billion': 201,\n",
              " 'half billion users': 94,\n",
              " 'in december 2016': 114,\n",
              " 'december 2016 zuckerberg': 64,\n",
              " '2016 zuckerberg was': 15,\n",
              " 'zuckerberg was ranked': 252,\n",
              " 'was ranked tenth': 228,\n",
              " 'ranked tenth on': 181,\n",
              " 'tenth on the': 200,\n",
              " 'on the forbes': 165,\n",
              " 'the forbes list': 206,\n",
              " 'forbes list of': 88,\n",
              " 'list of the': 131,\n",
              " 'of the world': 159,\n",
              " 'the world most': 214,\n",
              " 'world most powerful': 240,\n",
              " 'most powerful people': 146,\n",
              " 'in the forbes': 118,\n",
              " 'the forbes 400': 205,\n",
              " 'forbes 400 list': 87,\n",
              " '400 list of': 24,\n",
              " 'list of wealthiest': 132,\n",
              " 'of wealthiest americans': 161,\n",
              " 'wealthiest americans in': 231,\n",
              " 'americans in 2023': 27,\n",
              " 'in 2023 he': 113,\n",
              " '2023 he was': 21,\n",
              " 'he was ranked': 104,\n",
              " 'was ranked eighth': 227,\n",
              " 'ranked eighth with': 180,\n",
              " 'eighth with personal': 70,\n",
              " 'with personal wealth': 237,\n",
              " 'personal wealth of': 175,\n",
              " 'wealth of 106': 230,\n",
              " 'of 106 billion': 155,\n",
              " 'as of november': 39,\n",
              " 'of november 2023': 156,\n",
              " 'november 2023 zuckerberg': 153,\n",
              " '2023 zuckerberg net': 22,\n",
              " 'zuckerberg net worth': 250,\n",
              " 'net worth was': 150,\n",
              " 'worth was estimated': 243,\n",
              " 'was estimated at': 225,\n",
              " 'estimated at 107': 75,\n",
              " 'at 107 billion': 41,\n",
              " '107 billion by': 0,\n",
              " 'billion by forbes': 47,\n",
              " 'by forbes making': 51,\n",
              " 'forbes making him': 89,\n",
              " 'making him the': 136,\n",
              " 'him the seventh': 105,\n",
              " 'the seventh richest': 209,\n",
              " 'seventh richest person': 193,\n",
              " 'richest person in': 186,\n",
              " 'person in the': 173,\n",
              " 'film depicting zuckerberg': 85,\n",
              " 'depicting zuckerberg early': 65,\n",
              " 'zuckerberg early career': 248,\n",
              " 'early career legal': 67,\n",
              " 'career legal troubles': 54,\n",
              " 'legal troubles and': 130,\n",
              " 'troubles and initial': 221,\n",
              " 'and initial success': 33,\n",
              " 'initial success with': 123,\n",
              " 'success with the': 199,\n",
              " 'with the site': 238,\n",
              " 'the site the': 211,\n",
              " 'site the social': 196,\n",
              " 'the social network': 213,\n",
              " 'social network was': 198,\n",
              " 'network was released': 151,\n",
              " 'was released in': 229,\n",
              " 'released in 2010': 184,\n",
              " 'in 2010 and': 111,\n",
              " '2010 and won': 7,\n",
              " 'and won multiple': 36,\n",
              " 'won multiple academy': 239,\n",
              " 'multiple academy awards': 147}"
            ]
          },
          "metadata": {},
          "execution_count": 188
        }
      ]
    },
    {
      "cell_type": "code",
      "source": [
        "# Apply TF-IDF\n",
        "from sklearn.feature_extraction.text import TfidfVectorizer\n",
        "vecterizer = TfidfVecterizer()\n",
        "x = vecterizer.fit_transform(paragraph)\n"
      ],
      "metadata": {
        "id": "A_C4Qf597Z8r"
      },
      "execution_count": null,
      "outputs": []
    }
  ]
}