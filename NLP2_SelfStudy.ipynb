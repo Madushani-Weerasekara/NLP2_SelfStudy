{
  "nbformat": 4,
  "nbformat_minor": 0,
  "metadata": {
    "colab": {
      "provenance": [],
      "authorship_tag": "ABX9TyMvXmv22fJFtV5dRlkT00qq",
      "include_colab_link": true
    },
    "kernelspec": {
      "name": "python3",
      "display_name": "Python 3"
    },
    "language_info": {
      "name": "python"
    }
  },
  "cells": [
    {
      "cell_type": "markdown",
      "metadata": {
        "id": "view-in-github",
        "colab_type": "text"
      },
      "source": [
        "<a href=\"https://colab.research.google.com/github/Madushani-Weerasekara/NLP2_SelfStudy/blob/main/NLP2_SelfStudy.ipynb\" target=\"_parent\"><img src=\"https://colab.research.google.com/assets/colab-badge.svg\" alt=\"Open In Colab\"/></a>"
      ]
    },
    {
      "cell_type": "code",
      "execution_count": 38,
      "metadata": {
        "colab": {
          "base_uri": "https://localhost:8080/"
        },
        "id": "Nt0pohPVWoCO",
        "outputId": "c5573442-f27f-4480-97fb-52bf9a3f14c3"
      },
      "outputs": [
        {
          "output_type": "stream",
          "name": "stdout",
          "text": [
            "Requirement already satisfied: nltk in /usr/local/lib/python3.10/dist-packages (3.8.1)\n",
            "Requirement already satisfied: click in /usr/local/lib/python3.10/dist-packages (from nltk) (8.1.7)\n",
            "Requirement already satisfied: joblib in /usr/local/lib/python3.10/dist-packages (from nltk) (1.3.2)\n",
            "Requirement already satisfied: regex>=2021.8.3 in /usr/local/lib/python3.10/dist-packages (from nltk) (2023.6.3)\n",
            "Requirement already satisfied: tqdm in /usr/local/lib/python3.10/dist-packages (from nltk) (4.66.1)\n"
          ]
        }
      ],
      "source": [
        "pip install nltk\n"
      ]
    },
    {
      "cell_type": "code",
      "source": [
        "# import librarie\n",
        "import nltk\n",
        "from nltk.corpus import stopwords\n",
        "from nltk.tokenize import sent_tokenize, word_tokenize\n",
        "from nltk.stem import PorterStemmer, WordNetLemmatizer"
      ],
      "metadata": {
        "id": "mGnTl8jBaU8g"
      },
      "execution_count": 39,
      "outputs": []
    },
    {
      "cell_type": "code",
      "source": [
        "nltk.download('punkt')\n",
        "nltk.download('stopwords')\n",
        "nltk.download('wordnet')"
      ],
      "metadata": {
        "colab": {
          "base_uri": "https://localhost:8080/"
        },
        "id": "MAqgREq8Y7nB",
        "outputId": "eb8e8dcb-965e-452d-c55a-a2ba7a825614"
      },
      "execution_count": 40,
      "outputs": [
        {
          "output_type": "stream",
          "name": "stderr",
          "text": [
            "[nltk_data] Downloading package punkt to /root/nltk_data...\n",
            "[nltk_data]   Package punkt is already up-to-date!\n",
            "[nltk_data] Downloading package stopwords to /root/nltk_data...\n",
            "[nltk_data]   Package stopwords is already up-to-date!\n",
            "[nltk_data] Downloading package wordnet to /root/nltk_data...\n",
            "[nltk_data]   Package wordnet is already up-to-date!\n"
          ]
        },
        {
          "output_type": "execute_result",
          "data": {
            "text/plain": [
              "True"
            ]
          },
          "metadata": {},
          "execution_count": 40
        }
      ]
    },
    {
      "cell_type": "code",
      "source": [
        "paragraph = \"\"\"Mark Elliot Zuckerberg (/ˈzʌkərbɜːrɡ/; born May 14, 1984) is an American business magnate, computer programmer, internet entrepreneur, and philanthropist. He co-founded the social media service Facebook and its parent company Meta Platforms (formerly Facebook, Inc.), of which he is executive chairman, chief executive officer and controlling shareholder.[1][2]\n",
        "\n",
        "Zuckerberg attended Harvard University, where he launched Facebook in February 2004 with his roommates Eduardo Saverin, Andrew McCollum, Dustin Moskovitz and Chris Hughes. Originally launched in only select college campuses, the site expanded rapidly and eventually beyond colleges, reaching one billion users in 2012. Zuckerberg took the company public in May 2012 with majority shares. In 2007, at age 23, he became the world's youngest self-made billionaire. He has since used his funds to organize multiple philanthropic endeavors, including the establishment of the Chan Zuckerberg Initiative.\n",
        "\n",
        "Zuckerberg has been listed as one of the most influential people in the world on four occasions in 2008, 2011, 2016 and 2019 respectively and nominated as a finalist in 2009, 2012, 2014, 2015, 2017, 2018, 2020, 2021 and 2022. He was named Person of the Year by Time magazine in 2010, the same year when Facebook eclipsed more than half a billion users.[3][4][5] In December 2016, Zuckerberg was ranked tenth on the Forbes list of The World's Most Powerful People.[6] In the Forbes 400 list of wealthiest Americans in 2023, he was ranked eighth with a personal wealth of $106 billion.[7] As of November 2023, Zuckerberg's net worth was estimated at $107 billion by Forbes, making him the seventh richest person in the world.[8] A film depicting Zuckerberg's early career, legal troubles and initial success with the site, The Social Network, was released in 2010 and won multiple Academy Awards. \"\"\"\n",
        "\n",
        "print(paragraph)"
      ],
      "metadata": {
        "colab": {
          "base_uri": "https://localhost:8080/"
        },
        "id": "In9dpCu4bgaS",
        "outputId": "d0f315ca-e312-4f0e-ab8f-2b657a020659"
      },
      "execution_count": 41,
      "outputs": [
        {
          "output_type": "stream",
          "name": "stdout",
          "text": [
            "Mark Elliot Zuckerberg (/ˈzʌkərbɜːrɡ/; born May 14, 1984) is an American business magnate, computer programmer, internet entrepreneur, and philanthropist. He co-founded the social media service Facebook and its parent company Meta Platforms (formerly Facebook, Inc.), of which he is executive chairman, chief executive officer and controlling shareholder.[1][2]\n",
            "\n",
            "Zuckerberg attended Harvard University, where he launched Facebook in February 2004 with his roommates Eduardo Saverin, Andrew McCollum, Dustin Moskovitz and Chris Hughes. Originally launched in only select college campuses, the site expanded rapidly and eventually beyond colleges, reaching one billion users in 2012. Zuckerberg took the company public in May 2012 with majority shares. In 2007, at age 23, he became the world's youngest self-made billionaire. He has since used his funds to organize multiple philanthropic endeavors, including the establishment of the Chan Zuckerberg Initiative.\n",
            "\n",
            "Zuckerberg has been listed as one of the most influential people in the world on four occasions in 2008, 2011, 2016 and 2019 respectively and nominated as a finalist in 2009, 2012, 2014, 2015, 2017, 2018, 2020, 2021 and 2022. He was named Person of the Year by Time magazine in 2010, the same year when Facebook eclipsed more than half a billion users.[3][4][5] In December 2016, Zuckerberg was ranked tenth on the Forbes list of The World's Most Powerful People.[6] In the Forbes 400 list of wealthiest Americans in 2023, he was ranked eighth with a personal wealth of $106 billion.[7] As of November 2023, Zuckerberg's net worth was estimated at $107 billion by Forbes, making him the seventh richest person in the world.[8] A film depicting Zuckerberg's early career, legal troubles and initial success with the site, The Social Network, was released in 2010 and won multiple Academy Awards. \n"
          ]
        }
      ]
    },
    {
      "cell_type": "code",
      "source": [
        "# Tokenization\n",
        "# cnvert paragraph into sentences\n",
        "sentences = nltk.sent_tokenize(paragraph)\n",
        "print(sentences)\n",
        "\n"
      ],
      "metadata": {
        "colab": {
          "base_uri": "https://localhost:8080/"
        },
        "id": "2R_s8DOmcMSn",
        "outputId": "819b9dab-8eed-4333-b717-b82f481f8286"
      },
      "execution_count": 42,
      "outputs": [
        {
          "output_type": "stream",
          "name": "stdout",
          "text": [
            "['Mark Elliot Zuckerberg (/ˈzʌkərbɜːrɡ/; born May 14, 1984) is an American business magnate, computer programmer, internet entrepreneur, and philanthropist.', 'He co-founded the social media service Facebook and its parent company Meta Platforms (formerly Facebook, Inc.), of which he is executive chairman, chief executive officer and controlling shareholder.', '[1][2]\\n\\nZuckerberg attended Harvard University, where he launched Facebook in February 2004 with his roommates Eduardo Saverin, Andrew McCollum, Dustin Moskovitz and Chris Hughes.', 'Originally launched in only select college campuses, the site expanded rapidly and eventually beyond colleges, reaching one billion users in 2012.', 'Zuckerberg took the company public in May 2012 with majority shares.', \"In 2007, at age 23, he became the world's youngest self-made billionaire.\", 'He has since used his funds to organize multiple philanthropic endeavors, including the establishment of the Chan Zuckerberg Initiative.', 'Zuckerberg has been listed as one of the most influential people in the world on four occasions in 2008, 2011, 2016 and 2019 respectively and nominated as a finalist in 2009, 2012, 2014, 2015, 2017, 2018, 2020, 2021 and 2022.', 'He was named Person of the Year by Time magazine in 2010, the same year when Facebook eclipsed more than half a billion users.', \"[3][4][5] In December 2016, Zuckerberg was ranked tenth on the Forbes list of The World's Most Powerful People.\", '[6] In the Forbes 400 list of wealthiest Americans in 2023, he was ranked eighth with a personal wealth of $106 billion.', \"[7] As of November 2023, Zuckerberg's net worth was estimated at $107 billion by Forbes, making him the seventh richest person in the world.\", \"[8] A film depicting Zuckerberg's early career, legal troubles and initial success with the site, The Social Network, was released in 2010 and won multiple Academy Awards.\"]\n"
          ]
        }
      ]
    },
    {
      "cell_type": "code",
      "source": [
        "len(sentences)"
      ],
      "metadata": {
        "colab": {
          "base_uri": "https://localhost:8080/"
        },
        "id": "J5ZXnwO0roS9",
        "outputId": "74e30577-6136-44d1-91f4-87cfa9aa030c"
      },
      "execution_count": 43,
      "outputs": [
        {
          "output_type": "execute_result",
          "data": {
            "text/plain": [
              "13"
            ]
          },
          "metadata": {},
          "execution_count": 43
        }
      ]
    },
    {
      "cell_type": "code",
      "source": [
        "# Split sentences into words\n",
        "for sentence in sentences:\n",
        "  words = nltk.word_tokenize(sentence)\n",
        "  print(words)"
      ],
      "metadata": {
        "colab": {
          "base_uri": "https://localhost:8080/"
        },
        "id": "AQrFKWxvw4Z6",
        "outputId": "d7ee4903-da3e-4b70-efdf-7a3c630bad1c"
      },
      "execution_count": 44,
      "outputs": [
        {
          "output_type": "stream",
          "name": "stdout",
          "text": [
            "['Mark', 'Elliot', 'Zuckerberg', '(', '/ˈzʌkərbɜːrɡ/', ';', 'born', 'May', '14', ',', '1984', ')', 'is', 'an', 'American', 'business', 'magnate', ',', 'computer', 'programmer', ',', 'internet', 'entrepreneur', ',', 'and', 'philanthropist', '.']\n",
            "['He', 'co-founded', 'the', 'social', 'media', 'service', 'Facebook', 'and', 'its', 'parent', 'company', 'Meta', 'Platforms', '(', 'formerly', 'Facebook', ',', 'Inc.', ')', ',', 'of', 'which', 'he', 'is', 'executive', 'chairman', ',', 'chief', 'executive', 'officer', 'and', 'controlling', 'shareholder', '.']\n",
            "['[', '1', ']', '[', '2', ']', 'Zuckerberg', 'attended', 'Harvard', 'University', ',', 'where', 'he', 'launched', 'Facebook', 'in', 'February', '2004', 'with', 'his', 'roommates', 'Eduardo', 'Saverin', ',', 'Andrew', 'McCollum', ',', 'Dustin', 'Moskovitz', 'and', 'Chris', 'Hughes', '.']\n",
            "['Originally', 'launched', 'in', 'only', 'select', 'college', 'campuses', ',', 'the', 'site', 'expanded', 'rapidly', 'and', 'eventually', 'beyond', 'colleges', ',', 'reaching', 'one', 'billion', 'users', 'in', '2012', '.']\n",
            "['Zuckerberg', 'took', 'the', 'company', 'public', 'in', 'May', '2012', 'with', 'majority', 'shares', '.']\n",
            "['In', '2007', ',', 'at', 'age', '23', ',', 'he', 'became', 'the', 'world', \"'s\", 'youngest', 'self-made', 'billionaire', '.']\n",
            "['He', 'has', 'since', 'used', 'his', 'funds', 'to', 'organize', 'multiple', 'philanthropic', 'endeavors', ',', 'including', 'the', 'establishment', 'of', 'the', 'Chan', 'Zuckerberg', 'Initiative', '.']\n",
            "['Zuckerberg', 'has', 'been', 'listed', 'as', 'one', 'of', 'the', 'most', 'influential', 'people', 'in', 'the', 'world', 'on', 'four', 'occasions', 'in', '2008', ',', '2011', ',', '2016', 'and', '2019', 'respectively', 'and', 'nominated', 'as', 'a', 'finalist', 'in', '2009', ',', '2012', ',', '2014', ',', '2015', ',', '2017', ',', '2018', ',', '2020', ',', '2021', 'and', '2022', '.']\n",
            "['He', 'was', 'named', 'Person', 'of', 'the', 'Year', 'by', 'Time', 'magazine', 'in', '2010', ',', 'the', 'same', 'year', 'when', 'Facebook', 'eclipsed', 'more', 'than', 'half', 'a', 'billion', 'users', '.']\n",
            "['[', '3', ']', '[', '4', ']', '[', '5', ']', 'In', 'December', '2016', ',', 'Zuckerberg', 'was', 'ranked', 'tenth', 'on', 'the', 'Forbes', 'list', 'of', 'The', 'World', \"'s\", 'Most', 'Powerful', 'People', '.']\n",
            "['[', '6', ']', 'In', 'the', 'Forbes', '400', 'list', 'of', 'wealthiest', 'Americans', 'in', '2023', ',', 'he', 'was', 'ranked', 'eighth', 'with', 'a', 'personal', 'wealth', 'of', '$', '106', 'billion', '.']\n",
            "['[', '7', ']', 'As', 'of', 'November', '2023', ',', 'Zuckerberg', \"'s\", 'net', 'worth', 'was', 'estimated', 'at', '$', '107', 'billion', 'by', 'Forbes', ',', 'making', 'him', 'the', 'seventh', 'richest', 'person', 'in', 'the', 'world', '.']\n",
            "['[', '8', ']', 'A', 'film', 'depicting', 'Zuckerberg', \"'s\", 'early', 'career', ',', 'legal', 'troubles', 'and', 'initial', 'success', 'with', 'the', 'site', ',', 'The', 'Social', 'Network', ',', 'was', 'released', 'in', '2010', 'and', 'won', 'multiple', 'Academy', 'Awards', '.']\n"
          ]
        }
      ]
    },
    {
      "cell_type": "code",
      "source": [
        "# clean the text using re\n",
        "import re\n",
        "for i in range(len(sentences)):\n",
        "  stop_words = set (stopwords.words('english'))\n",
        "  cleaned_text = re.sub('[^a-zA-Z]', \" \", sentences[i])\n",
        "  cleaned_text = cleaned_text.lower()\n",
        "  cleaned_text = cleaned_text.split()\n",
        "  cleaned_text = [word for word in cleaned_text if word not in stop_words]\n",
        "  print(cleaned_text)\n",
        "\n",
        "\n"
      ],
      "metadata": {
        "colab": {
          "base_uri": "https://localhost:8080/"
        },
        "id": "K6g2sREWxWEn",
        "outputId": "0cb2950e-d8e1-4c82-c7be-bfe4f83556ed"
      },
      "execution_count": 45,
      "outputs": [
        {
          "output_type": "stream",
          "name": "stdout",
          "text": [
            "['mark', 'elliot', 'zuckerberg', 'z', 'k', 'rb', 'r', 'born', 'may', 'american', 'business', 'magnate', 'computer', 'programmer', 'internet', 'entrepreneur', 'philanthropist']\n",
            "['co', 'founded', 'social', 'media', 'service', 'facebook', 'parent', 'company', 'meta', 'platforms', 'formerly', 'facebook', 'inc', 'executive', 'chairman', 'chief', 'executive', 'officer', 'controlling', 'shareholder']\n",
            "['zuckerberg', 'attended', 'harvard', 'university', 'launched', 'facebook', 'february', 'roommates', 'eduardo', 'saverin', 'andrew', 'mccollum', 'dustin', 'moskovitz', 'chris', 'hughes']\n",
            "['originally', 'launched', 'select', 'college', 'campuses', 'site', 'expanded', 'rapidly', 'eventually', 'beyond', 'colleges', 'reaching', 'one', 'billion', 'users']\n",
            "['zuckerberg', 'took', 'company', 'public', 'may', 'majority', 'shares']\n",
            "['age', 'became', 'world', 'youngest', 'self', 'made', 'billionaire']\n",
            "['since', 'used', 'funds', 'organize', 'multiple', 'philanthropic', 'endeavors', 'including', 'establishment', 'chan', 'zuckerberg', 'initiative']\n",
            "['zuckerberg', 'listed', 'one', 'influential', 'people', 'world', 'four', 'occasions', 'respectively', 'nominated', 'finalist']\n",
            "['named', 'person', 'year', 'time', 'magazine', 'year', 'facebook', 'eclipsed', 'half', 'billion', 'users']\n",
            "['december', 'zuckerberg', 'ranked', 'tenth', 'forbes', 'list', 'world', 'powerful', 'people']\n",
            "['forbes', 'list', 'wealthiest', 'americans', 'ranked', 'eighth', 'personal', 'wealth', 'billion']\n",
            "['november', 'zuckerberg', 'net', 'worth', 'estimated', 'billion', 'forbes', 'making', 'seventh', 'richest', 'person', 'world']\n",
            "['film', 'depicting', 'zuckerberg', 'early', 'career', 'legal', 'troubles', 'initial', 'success', 'site', 'social', 'network', 'released', 'multiple', 'academy', 'awards']\n"
          ]
        }
      ]
    },
    {
      "cell_type": "code",
      "source": [
        "len(sentences)"
      ],
      "metadata": {
        "colab": {
          "base_uri": "https://localhost:8080/"
        },
        "id": "tn6sfHkA4xOS",
        "outputId": "c41972c3-23dd-42d9-81fe-92c1c7a46c87"
      },
      "execution_count": 46,
      "outputs": [
        {
          "output_type": "execute_result",
          "data": {
            "text/plain": [
              "13"
            ]
          },
          "metadata": {},
          "execution_count": 46
        }
      ]
    },
    {
      "cell_type": "code",
      "source": [
        "#apply stemming\n",
        "\n",
        "stemmer = PorterStemmer()\n",
        "\n",
        "for word in words:\n",
        "  if word not in set(stopwords.words('english')):\n",
        "    stemmed_words = stemmer.stem(word)\n",
        "    print(stemmed_words)"
      ],
      "metadata": {
        "colab": {
          "base_uri": "https://localhost:8080/"
        },
        "id": "nETPpBWR1pPj",
        "outputId": "23de1620-e2f7-4ec2-94fa-49d742e0cae5"
      },
      "execution_count": 47,
      "outputs": [
        {
          "output_type": "stream",
          "name": "stdout",
          "text": [
            "[\n",
            "8\n",
            "]\n",
            "a\n",
            "film\n",
            "depict\n",
            "zuckerberg\n",
            "'s\n",
            "earli\n",
            "career\n",
            ",\n",
            "legal\n",
            "troubl\n",
            "initi\n",
            "success\n",
            "site\n",
            ",\n",
            "the\n",
            "social\n",
            "network\n",
            ",\n",
            "releas\n",
            "2010\n",
            "multipl\n",
            "academi\n",
            "award\n",
            ".\n"
          ]
        }
      ]
    },
    {
      "cell_type": "code",
      "source": [
        "# Apply lemmatization\n",
        "\n",
        "lemmatizer = WordNetLemmatizer()\n",
        "\n",
        "for i in range(len(sentences)):\n",
        "  for word in words:\n",
        "    if word not in set(stopwords.words('english')):\n",
        "      lemmazed_word = lemmatizer.lemmatize(word)\n",
        "      print(lemmazed_word)"
      ],
      "metadata": {
        "colab": {
          "base_uri": "https://localhost:8080/"
        },
        "id": "b_B9kDg_3XST",
        "outputId": "5dd8325c-cf85-4656-f1c2-38e9fa1e32ef"
      },
      "execution_count": 50,
      "outputs": [
        {
          "output_type": "stream",
          "name": "stdout",
          "text": [
            "[\n",
            "8\n",
            "]\n",
            "A\n",
            "film\n",
            "depicting\n",
            "Zuckerberg\n",
            "'s\n",
            "early\n",
            "career\n",
            ",\n",
            "legal\n",
            "trouble\n",
            "initial\n",
            "success\n",
            "site\n",
            ",\n",
            "The\n",
            "Social\n",
            "Network\n",
            ",\n",
            "released\n",
            "2010\n",
            "multiple\n",
            "Academy\n",
            "Awards\n",
            ".\n",
            "[\n",
            "8\n",
            "]\n",
            "A\n",
            "film\n",
            "depicting\n",
            "Zuckerberg\n",
            "'s\n",
            "early\n",
            "career\n",
            ",\n",
            "legal\n",
            "trouble\n",
            "initial\n",
            "success\n",
            "site\n",
            ",\n",
            "The\n",
            "Social\n",
            "Network\n",
            ",\n",
            "released\n",
            "2010\n",
            "multiple\n",
            "Academy\n",
            "Awards\n",
            ".\n",
            "[\n",
            "8\n",
            "]\n",
            "A\n",
            "film\n",
            "depicting\n",
            "Zuckerberg\n",
            "'s\n",
            "early\n",
            "career\n",
            ",\n",
            "legal\n",
            "trouble\n",
            "initial\n",
            "success\n",
            "site\n",
            ",\n",
            "The\n",
            "Social\n",
            "Network\n",
            ",\n",
            "released\n",
            "2010\n",
            "multiple\n",
            "Academy\n",
            "Awards\n",
            ".\n",
            "[\n",
            "8\n",
            "]\n",
            "A\n",
            "film\n",
            "depicting\n",
            "Zuckerberg\n",
            "'s\n",
            "early\n",
            "career\n",
            ",\n",
            "legal\n",
            "trouble\n",
            "initial\n",
            "success\n",
            "site\n",
            ",\n",
            "The\n",
            "Social\n",
            "Network\n",
            ",\n",
            "released\n",
            "2010\n",
            "multiple\n",
            "Academy\n",
            "Awards\n",
            ".\n",
            "[\n",
            "8\n",
            "]\n",
            "A\n",
            "film\n",
            "depicting\n",
            "Zuckerberg\n",
            "'s\n",
            "early\n",
            "career\n",
            ",\n",
            "legal\n",
            "trouble\n",
            "initial\n",
            "success\n",
            "site\n",
            ",\n",
            "The\n",
            "Social\n",
            "Network\n",
            ",\n",
            "released\n",
            "2010\n",
            "multiple\n",
            "Academy\n",
            "Awards\n",
            ".\n",
            "[\n",
            "8\n",
            "]\n",
            "A\n",
            "film\n",
            "depicting\n",
            "Zuckerberg\n",
            "'s\n",
            "early\n",
            "career\n",
            ",\n",
            "legal\n",
            "trouble\n",
            "initial\n",
            "success\n",
            "site\n",
            ",\n",
            "The\n",
            "Social\n",
            "Network\n",
            ",\n",
            "released\n",
            "2010\n",
            "multiple\n",
            "Academy\n",
            "Awards\n",
            ".\n",
            "[\n",
            "8\n",
            "]\n",
            "A\n",
            "film\n",
            "depicting\n",
            "Zuckerberg\n",
            "'s\n",
            "early\n",
            "career\n",
            ",\n",
            "legal\n",
            "trouble\n",
            "initial\n",
            "success\n",
            "site\n",
            ",\n",
            "The\n",
            "Social\n",
            "Network\n",
            ",\n",
            "released\n",
            "2010\n",
            "multiple\n",
            "Academy\n",
            "Awards\n",
            ".\n",
            "[\n",
            "8\n",
            "]\n",
            "A\n",
            "film\n",
            "depicting\n",
            "Zuckerberg\n",
            "'s\n",
            "early\n",
            "career\n",
            ",\n",
            "legal\n",
            "trouble\n",
            "initial\n",
            "success\n",
            "site\n",
            ",\n",
            "The\n",
            "Social\n",
            "Network\n",
            ",\n",
            "released\n",
            "2010\n",
            "multiple\n",
            "Academy\n",
            "Awards\n",
            ".\n",
            "[\n",
            "8\n",
            "]\n",
            "A\n",
            "film\n",
            "depicting\n",
            "Zuckerberg\n",
            "'s\n",
            "early\n",
            "career\n",
            ",\n",
            "legal\n",
            "trouble\n",
            "initial\n",
            "success\n",
            "site\n",
            ",\n",
            "The\n",
            "Social\n",
            "Network\n",
            ",\n",
            "released\n",
            "2010\n",
            "multiple\n",
            "Academy\n",
            "Awards\n",
            ".\n",
            "[\n",
            "8\n",
            "]\n",
            "A\n",
            "film\n",
            "depicting\n",
            "Zuckerberg\n",
            "'s\n",
            "early\n",
            "career\n",
            ",\n",
            "legal\n",
            "trouble\n",
            "initial\n",
            "success\n",
            "site\n",
            ",\n",
            "The\n",
            "Social\n",
            "Network\n",
            ",\n",
            "released\n",
            "2010\n",
            "multiple\n",
            "Academy\n",
            "Awards\n",
            ".\n",
            "[\n",
            "8\n",
            "]\n",
            "A\n",
            "film\n",
            "depicting\n",
            "Zuckerberg\n",
            "'s\n",
            "early\n",
            "career\n",
            ",\n",
            "legal\n",
            "trouble\n",
            "initial\n",
            "success\n",
            "site\n",
            ",\n",
            "The\n",
            "Social\n",
            "Network\n",
            ",\n",
            "released\n",
            "2010\n",
            "multiple\n",
            "Academy\n",
            "Awards\n",
            ".\n",
            "[\n",
            "8\n",
            "]\n",
            "A\n",
            "film\n",
            "depicting\n",
            "Zuckerberg\n",
            "'s\n",
            "early\n",
            "career\n",
            ",\n",
            "legal\n",
            "trouble\n",
            "initial\n",
            "success\n",
            "site\n",
            ",\n",
            "The\n",
            "Social\n",
            "Network\n",
            ",\n",
            "released\n",
            "2010\n",
            "multiple\n",
            "Academy\n",
            "Awards\n",
            ".\n",
            "[\n",
            "8\n",
            "]\n",
            "A\n",
            "film\n",
            "depicting\n",
            "Zuckerberg\n",
            "'s\n",
            "early\n",
            "career\n",
            ",\n",
            "legal\n",
            "trouble\n",
            "initial\n",
            "success\n",
            "site\n",
            ",\n",
            "The\n",
            "Social\n",
            "Network\n",
            ",\n",
            "released\n",
            "2010\n",
            "multiple\n",
            "Academy\n",
            "Awards\n",
            ".\n"
          ]
        }
      ]
    },
    {
      "cell_type": "code",
      "source": [
        "#Apply BOW\n",
        "# CountVecterizer --> Convert a collection of text documents to a matrix of token counts.\n",
        "from sklearn.feature_extraction.text import CountVecterizer\n",
        "vecterizer = CountVecterizer(binary=true, ngram_range = (3,3))\n",
        "\n"
      ],
      "metadata": {
        "colab": {
          "base_uri": "https://localhost:8080/",
          "height": 411
        },
        "id": "aFihMeAH43-S",
        "outputId": "1c0bf02c-5197-4ff7-dad1-ec103688a357"
      },
      "execution_count": 51,
      "outputs": [
        {
          "output_type": "error",
          "ename": "ImportError",
          "evalue": "ignored",
          "traceback": [
            "\u001b[0;31m---------------------------------------------------------------------------\u001b[0m",
            "\u001b[0;31mImportError\u001b[0m                               Traceback (most recent call last)",
            "\u001b[0;32m<ipython-input-51-61524f5ed5b4>\u001b[0m in \u001b[0;36m<cell line: 3>\u001b[0;34m()\u001b[0m\n\u001b[1;32m      1\u001b[0m \u001b[0;31m#Apply BOW\u001b[0m\u001b[0;34m\u001b[0m\u001b[0;34m\u001b[0m\u001b[0m\n\u001b[1;32m      2\u001b[0m \u001b[0;31m# CountVecterizer --> Convert a collection of text documents to a matrix of token counts.\u001b[0m\u001b[0;34m\u001b[0m\u001b[0;34m\u001b[0m\u001b[0m\n\u001b[0;32m----> 3\u001b[0;31m \u001b[0;32mfrom\u001b[0m \u001b[0msklearn\u001b[0m\u001b[0;34m.\u001b[0m\u001b[0mfeature_extraction\u001b[0m\u001b[0;34m.\u001b[0m\u001b[0mtext\u001b[0m \u001b[0;32mimport\u001b[0m \u001b[0mCountVecterizer\u001b[0m\u001b[0;34m\u001b[0m\u001b[0;34m\u001b[0m\u001b[0m\n\u001b[0m\u001b[1;32m      4\u001b[0m \u001b[0mvecterizer\u001b[0m \u001b[0;34m=\u001b[0m \u001b[0mCountVecterizer\u001b[0m\u001b[0;34m(\u001b[0m\u001b[0mbinary\u001b[0m\u001b[0;34m=\u001b[0m\u001b[0mtrue\u001b[0m\u001b[0;34m,\u001b[0m \u001b[0mngram_range\u001b[0m \u001b[0;34m=\u001b[0m \u001b[0;34m(\u001b[0m\u001b[0;36m3\u001b[0m\u001b[0;34m,\u001b[0m\u001b[0;36m3\u001b[0m\u001b[0;34m)\u001b[0m\u001b[0;34m)\u001b[0m\u001b[0;34m\u001b[0m\u001b[0;34m\u001b[0m\u001b[0m\n\u001b[1;32m      5\u001b[0m \u001b[0;34m\u001b[0m\u001b[0m\n",
            "\u001b[0;31mImportError\u001b[0m: cannot import name 'CountVecterizer' from 'sklearn.feature_extraction.text' (/usr/local/lib/python3.10/dist-packages/sklearn/feature_extraction/text.py)",
            "",
            "\u001b[0;31m---------------------------------------------------------------------------\u001b[0;32m\nNOTE: If your import is failing due to a missing package, you can\nmanually install dependencies using either !pip or !apt.\n\nTo view examples of installing some common dependencies, click the\n\"Open Examples\" button below.\n\u001b[0;31m---------------------------------------------------------------------------\u001b[0m\n"
          ],
          "errorDetails": {
            "actions": [
              {
                "action": "open_url",
                "actionText": "Open Examples",
                "url": "/notebooks/snippets/importing_libraries.ipynb"
              }
            ]
          }
        }
      ]
    },
    {
      "cell_type": "code",
      "source": [
        "x = vecterizer.fit_transform(paragraph)"
      ],
      "metadata": {
        "id": "ppNkIic860b6"
      },
      "execution_count": null,
      "outputs": []
    },
    {
      "cell_type": "code",
      "source": [
        "vecterizer.vocabulary_"
      ],
      "metadata": {
        "id": "MzDgD_X_7EcQ"
      },
      "execution_count": null,
      "outputs": []
    },
    {
      "cell_type": "code",
      "source": [
        "# Apply TF-IDF\n",
        "from sklearn.feature_extraction.text import TfidfVectorizer\n",
        "vecterizer = TfidfVecterizer()\n",
        "x = vecterizer.fit_transform(paragraph)\n"
      ],
      "metadata": {
        "id": "A_C4Qf597Z8r"
      },
      "execution_count": null,
      "outputs": []
    }
  ]
}