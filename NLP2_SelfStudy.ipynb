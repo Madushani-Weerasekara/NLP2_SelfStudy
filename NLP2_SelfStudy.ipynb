{
  "nbformat": 4,
  "nbformat_minor": 0,
  "metadata": {
    "colab": {
      "provenance": [],
      "authorship_tag": "ABX9TyP1K1z/hvIvpGbX73aPxaQ/",
      "include_colab_link": true
    },
    "kernelspec": {
      "name": "python3",
      "display_name": "Python 3"
    },
    "language_info": {
      "name": "python"
    }
  },
  "cells": [
    {
      "cell_type": "markdown",
      "metadata": {
        "id": "view-in-github",
        "colab_type": "text"
      },
      "source": [
        "<a href=\"https://colab.research.google.com/github/Madushani-Weerasekara/NLP2_SelfStudy/blob/main/NLP2_SelfStudy.ipynb\" target=\"_parent\"><img src=\"https://colab.research.google.com/assets/colab-badge.svg\" alt=\"Open In Colab\"/></a>"
      ]
    },
    {
      "cell_type": "code",
      "execution_count": 94,
      "metadata": {
        "colab": {
          "base_uri": "https://localhost:8080/"
        },
        "id": "Nt0pohPVWoCO",
        "outputId": "374ae9fe-694e-44f3-d05a-daf7378a9770"
      },
      "outputs": [
        {
          "output_type": "stream",
          "name": "stdout",
          "text": [
            "Requirement already satisfied: nltk in /usr/local/lib/python3.10/dist-packages (3.8.1)\n",
            "Requirement already satisfied: click in /usr/local/lib/python3.10/dist-packages (from nltk) (8.1.7)\n",
            "Requirement already satisfied: joblib in /usr/local/lib/python3.10/dist-packages (from nltk) (1.3.2)\n",
            "Requirement already satisfied: regex>=2021.8.3 in /usr/local/lib/python3.10/dist-packages (from nltk) (2023.6.3)\n",
            "Requirement already satisfied: tqdm in /usr/local/lib/python3.10/dist-packages (from nltk) (4.66.1)\n"
          ]
        }
      ],
      "source": [
        "pip install nltk\n"
      ]
    },
    {
      "cell_type": "code",
      "source": [
        "# import librarie\n",
        "import nltk\n",
        "from nltk.corpus import stopwords\n",
        "from nltk.tokenize import sent_tokenize, word_tokenize\n",
        "from nltk.stem import PorterStemmer, WordNetLemmatizer"
      ],
      "metadata": {
        "id": "mGnTl8jBaU8g"
      },
      "execution_count": 95,
      "outputs": []
    },
    {
      "cell_type": "code",
      "source": [
        "nltk.download('punkt')\n",
        "nltk.download('stopwords')\n",
        "nltk.download('wordnet')"
      ],
      "metadata": {
        "colab": {
          "base_uri": "https://localhost:8080/"
        },
        "id": "MAqgREq8Y7nB",
        "outputId": "426266bc-baab-4409-b88f-c2e1f21bfc23"
      },
      "execution_count": 96,
      "outputs": [
        {
          "output_type": "stream",
          "name": "stderr",
          "text": [
            "[nltk_data] Downloading package punkt to /root/nltk_data...\n",
            "[nltk_data]   Package punkt is already up-to-date!\n",
            "[nltk_data] Downloading package stopwords to /root/nltk_data...\n",
            "[nltk_data]   Package stopwords is already up-to-date!\n",
            "[nltk_data] Downloading package wordnet to /root/nltk_data...\n",
            "[nltk_data]   Package wordnet is already up-to-date!\n"
          ]
        },
        {
          "output_type": "execute_result",
          "data": {
            "text/plain": [
              "True"
            ]
          },
          "metadata": {},
          "execution_count": 96
        }
      ]
    },
    {
      "cell_type": "code",
      "source": [
        "paragraph = \"\"\"Osho\" redirects here. For other uses, see Rajneesh (disambiguation) and Osho (disambiguation).\n",
        "Bhagwan Shree Rajneesh\n",
        "Rajneesh c. 1977\n",
        "Born\tChandra Mohan Jain\n",
        "\n",
        "11 December 1931\n",
        "Kuchwada, Bhopal State, British India\n",
        "Died\t19 January 1990 (aged 58)\n",
        "Pune, Maharashtra, India\n",
        "Nationality\tIndian\n",
        "Education\tDr. Hari Singh Gour University (MA)\n",
        "Known for\tSpirituality, mysticism, anti-religion[1]\n",
        "Movement\tNeo-sannyasins[1]\n",
        "Memorial(s)\tOsho International Meditation Resort, Pune\n",
        "Website\tosho.com\n",
        "\n",
        "Rajneesh (born Chandra Mohan Jain; 11 December 1931 – 19 January 1990), also known as Acharya Rajneesh,[2] Bhagwan Shree Rajneesh,[1] and later as Osho (Hindi pronunciation: [ˈo:ʃo:]), was an Indian Godman,[3] philosopher, mystic, and founder of the Rajneesh movement.[1] He was viewed as a controversial new religious movement leader during his life. He rejected institutional religions,[4][1][5] insisting that spiritual experience could not be organized into any one system of religious dogma.[6] As a guru, he advocated meditation and taught a unique form called dynamic meditation. Rejecting traditional ascetic practices, he advocated that his followers live fully in the world but without attachment to it.[6] In expressing a more progressive attitude to sexuality[7] he caused controversy in India during the late 1960s and became known as \"the sex guru\".[1][8][9] \"\"\""
      ],
      "metadata": {
        "id": "In9dpCu4bgaS"
      },
      "execution_count": 97,
      "outputs": []
    },
    {
      "cell_type": "code",
      "source": [
        "# Tokenization\n",
        "# cnvert paragraph into sentences\n",
        "sentences = nltk.sent_tokenize(paragraph)\n",
        "print(sentences)\n",
        "\n"
      ],
      "metadata": {
        "colab": {
          "base_uri": "https://localhost:8080/"
        },
        "id": "2R_s8DOmcMSn",
        "outputId": "7136be64-944b-4589-837d-e353b90bb244"
      },
      "execution_count": 98,
      "outputs": [
        {
          "output_type": "stream",
          "name": "stdout",
          "text": [
            "['Osho\" redirects here.', 'For other uses, see Rajneesh (disambiguation) and Osho (disambiguation).', 'Bhagwan Shree Rajneesh\\nRajneesh c. 1977\\nBorn\\tChandra Mohan Jain\\n\\n11 December 1931\\nKuchwada, Bhopal State, British India\\nDied\\t19 January 1990 (aged 58)\\nPune, Maharashtra, India\\nNationality\\tIndian\\nEducation\\tDr. Hari Singh Gour University (MA)\\nKnown for\\tSpirituality, mysticism, anti-religion[1]\\nMovement\\tNeo-sannyasins[1]\\nMemorial(s)\\tOsho International Meditation Resort, Pune\\nWebsite\\tosho.com\\n\\nRajneesh (born Chandra Mohan Jain; 11 December 1931 – 19 January 1990), also known as Acharya Rajneesh,[2] Bhagwan Shree Rajneesh,[1] and later as Osho (Hindi pronunciation: [ˈo:ʃo:]), was an Indian Godman,[3] philosopher, mystic, and founder of the Rajneesh movement.', '[1] He was viewed as a controversial new religious movement leader during his life.', 'He rejected institutional religions,[4][1][5] insisting that spiritual experience could not be organized into any one system of religious dogma.', '[6] As a guru, he advocated meditation and taught a unique form called dynamic meditation.', 'Rejecting traditional ascetic practices, he advocated that his followers live fully in the world but without attachment to it.', '[6] In expressing a more progressive attitude to sexuality[7] he caused controversy in India during the late 1960s and became known as \"the sex guru\".', '[1][8][9]']\n"
          ]
        }
      ]
    },
    {
      "cell_type": "code",
      "source": [
        "len(sentences)"
      ],
      "metadata": {
        "colab": {
          "base_uri": "https://localhost:8080/"
        },
        "id": "J5ZXnwO0roS9",
        "outputId": "eae6f627-815c-4255-e1ba-ec84e5008266"
      },
      "execution_count": 99,
      "outputs": [
        {
          "output_type": "execute_result",
          "data": {
            "text/plain": [
              "9"
            ]
          },
          "metadata": {},
          "execution_count": 99
        }
      ]
    },
    {
      "cell_type": "code",
      "source": [
        "# Split sentences into words\n",
        "for sentence in sentences:\n",
        "  words = nltk.word_tokenize(sentence)\n",
        "  print(words)"
      ],
      "metadata": {
        "colab": {
          "base_uri": "https://localhost:8080/"
        },
        "id": "AQrFKWxvw4Z6",
        "outputId": "fdbf5089-9755-4aab-f8e5-c6e42205c525"
      },
      "execution_count": 100,
      "outputs": [
        {
          "output_type": "stream",
          "name": "stdout",
          "text": [
            "['Osho', \"''\", 'redirects', 'here', '.']\n",
            "['For', 'other', 'uses', ',', 'see', 'Rajneesh', '(', 'disambiguation', ')', 'and', 'Osho', '(', 'disambiguation', ')', '.']\n",
            "['Bhagwan', 'Shree', 'Rajneesh', 'Rajneesh', 'c.', '1977', 'Born', 'Chandra', 'Mohan', 'Jain', '11', 'December', '1931', 'Kuchwada', ',', 'Bhopal', 'State', ',', 'British', 'India', 'Died', '19', 'January', '1990', '(', 'aged', '58', ')', 'Pune', ',', 'Maharashtra', ',', 'India', 'Nationality', 'Indian', 'Education', 'Dr.', 'Hari', 'Singh', 'Gour', 'University', '(', 'MA', ')', 'Known', 'for', 'Spirituality', ',', 'mysticism', ',', 'anti-religion', '[', '1', ']', 'Movement', 'Neo-sannyasins', '[', '1', ']', 'Memorial', '(', 's', ')', 'Osho', 'International', 'Meditation', 'Resort', ',', 'Pune', 'Website', 'osho.com', 'Rajneesh', '(', 'born', 'Chandra', 'Mohan', 'Jain', ';', '11', 'December', '1931', '–', '19', 'January', '1990', ')', ',', 'also', 'known', 'as', 'Acharya', 'Rajneesh', ',', '[', '2', ']', 'Bhagwan', 'Shree', 'Rajneesh', ',', '[', '1', ']', 'and', 'later', 'as', 'Osho', '(', 'Hindi', 'pronunciation', ':', '[', 'ˈo', ':', 'ʃo', ':', ']', ')', ',', 'was', 'an', 'Indian', 'Godman', ',', '[', '3', ']', 'philosopher', ',', 'mystic', ',', 'and', 'founder', 'of', 'the', 'Rajneesh', 'movement', '.']\n",
            "['[', '1', ']', 'He', 'was', 'viewed', 'as', 'a', 'controversial', 'new', 'religious', 'movement', 'leader', 'during', 'his', 'life', '.']\n",
            "['He', 'rejected', 'institutional', 'religions', ',', '[', '4', ']', '[', '1', ']', '[', '5', ']', 'insisting', 'that', 'spiritual', 'experience', 'could', 'not', 'be', 'organized', 'into', 'any', 'one', 'system', 'of', 'religious', 'dogma', '.']\n",
            "['[', '6', ']', 'As', 'a', 'guru', ',', 'he', 'advocated', 'meditation', 'and', 'taught', 'a', 'unique', 'form', 'called', 'dynamic', 'meditation', '.']\n",
            "['Rejecting', 'traditional', 'ascetic', 'practices', ',', 'he', 'advocated', 'that', 'his', 'followers', 'live', 'fully', 'in', 'the', 'world', 'but', 'without', 'attachment', 'to', 'it', '.']\n",
            "['[', '6', ']', 'In', 'expressing', 'a', 'more', 'progressive', 'attitude', 'to', 'sexuality', '[', '7', ']', 'he', 'caused', 'controversy', 'in', 'India', 'during', 'the', 'late', '1960s', 'and', 'became', 'known', 'as', '``', 'the', 'sex', 'guru', \"''\", '.']\n",
            "['[', '1', ']', '[', '8', ']', '[', '9', ']']\n"
          ]
        }
      ]
    },
    {
      "cell_type": "code",
      "source": [
        "# clean the text using re\n",
        "import re\n",
        "for i in range(len(sentences)):\n",
        "  stop_words = set (stopwords.words('english'))\n",
        "  cleaned_text = re.sub('[^a-zA-Z]', \" \", sentences[i])\n",
        "  cleaned_text = cleaned_text.lower()\n",
        "  cleaned_text = cleaned_text.split()\n",
        "  cleaned_text = [word for word in cleaned_text if word not in stop_words]\n",
        "  print(cleaned_text)\n",
        "\n",
        "\n"
      ],
      "metadata": {
        "colab": {
          "base_uri": "https://localhost:8080/"
        },
        "id": "K6g2sREWxWEn",
        "outputId": "c0c6e053-6fff-469f-895e-83634c63bc7c"
      },
      "execution_count": 101,
      "outputs": [
        {
          "output_type": "stream",
          "name": "stdout",
          "text": [
            "['osho', 'redirects']\n",
            "['uses', 'see', 'rajneesh', 'disambiguation', 'osho', 'disambiguation']\n",
            "['bhagwan', 'shree', 'rajneesh', 'rajneesh', 'c', 'born', 'chandra', 'mohan', 'jain', 'december', 'kuchwada', 'bhopal', 'state', 'british', 'india', 'died', 'january', 'aged', 'pune', 'maharashtra', 'india', 'nationality', 'indian', 'education', 'dr', 'hari', 'singh', 'gour', 'university', 'known', 'spirituality', 'mysticism', 'anti', 'religion', 'movement', 'neo', 'sannyasins', 'memorial', 'osho', 'international', 'meditation', 'resort', 'pune', 'website', 'osho', 'com', 'rajneesh', 'born', 'chandra', 'mohan', 'jain', 'december', 'january', 'also', 'known', 'acharya', 'rajneesh', 'bhagwan', 'shree', 'rajneesh', 'later', 'osho', 'hindi', 'pronunciation', 'indian', 'godman', 'philosopher', 'mystic', 'founder', 'rajneesh', 'movement']\n",
            "['viewed', 'controversial', 'new', 'religious', 'movement', 'leader', 'life']\n",
            "['rejected', 'institutional', 'religions', 'insisting', 'spiritual', 'experience', 'could', 'organized', 'one', 'system', 'religious', 'dogma']\n",
            "['guru', 'advocated', 'meditation', 'taught', 'unique', 'form', 'called', 'dynamic', 'meditation']\n",
            "['rejecting', 'traditional', 'ascetic', 'practices', 'advocated', 'followers', 'live', 'fully', 'world', 'without', 'attachment']\n",
            "['expressing', 'progressive', 'attitude', 'sexuality', 'caused', 'controversy', 'india', 'late', 'became', 'known', 'sex', 'guru']\n",
            "[]\n"
          ]
        }
      ]
    },
    {
      "cell_type": "code",
      "source": [
        "len(sentences)"
      ],
      "metadata": {
        "colab": {
          "base_uri": "https://localhost:8080/"
        },
        "id": "tn6sfHkA4xOS",
        "outputId": "c4ed85a9-8f0b-493d-e8e7-c7282ebc9bd9"
      },
      "execution_count": 102,
      "outputs": [
        {
          "output_type": "execute_result",
          "data": {
            "text/plain": [
              "9"
            ]
          },
          "metadata": {},
          "execution_count": 102
        }
      ]
    },
    {
      "cell_type": "code",
      "source": [
        "#apply stemming\n",
        "\n",
        "stemmer = PorterStemmer()\n",
        "\n",
        "for i in range(len(sentences)):\n",
        "\n",
        "  for word in words:\n",
        "    if word not in set(stopwords.words('english')):\n",
        "      stemmed_words = stemmer.stem(word)\n",
        "      print(stemmed_words)"
      ],
      "metadata": {
        "colab": {
          "base_uri": "https://localhost:8080/"
        },
        "id": "nETPpBWR1pPj",
        "outputId": "a44f6478-f82e-42d3-8053-048246320cf2"
      },
      "execution_count": 103,
      "outputs": [
        {
          "output_type": "stream",
          "name": "stdout",
          "text": [
            "[\n",
            "1\n",
            "]\n",
            "[\n",
            "8\n",
            "]\n",
            "[\n",
            "9\n",
            "]\n",
            "[\n",
            "1\n",
            "]\n",
            "[\n",
            "8\n",
            "]\n",
            "[\n",
            "9\n",
            "]\n",
            "[\n",
            "1\n",
            "]\n",
            "[\n",
            "8\n",
            "]\n",
            "[\n",
            "9\n",
            "]\n",
            "[\n",
            "1\n",
            "]\n",
            "[\n",
            "8\n",
            "]\n",
            "[\n",
            "9\n",
            "]\n",
            "[\n",
            "1\n",
            "]\n",
            "[\n",
            "8\n",
            "]\n",
            "[\n",
            "9\n",
            "]\n",
            "[\n",
            "1\n",
            "]\n",
            "[\n",
            "8\n",
            "]\n",
            "[\n",
            "9\n",
            "]\n",
            "[\n",
            "1\n",
            "]\n",
            "[\n",
            "8\n",
            "]\n",
            "[\n",
            "9\n",
            "]\n",
            "[\n",
            "1\n",
            "]\n",
            "[\n",
            "8\n",
            "]\n",
            "[\n",
            "9\n",
            "]\n",
            "[\n",
            "1\n",
            "]\n",
            "[\n",
            "8\n",
            "]\n",
            "[\n",
            "9\n",
            "]\n"
          ]
        }
      ]
    },
    {
      "cell_type": "code",
      "source": [
        "# Apply lemmatization\n",
        "\n",
        "lemmatizer = WordNetLemmatizer()\n",
        "\n",
        "for i in range(len(sentences)):\n",
        "  for word in words:\n",
        "    if word not in set(stopwords.words('english')):\n",
        "      lemmatized_word = lemmatizer.lemmatize(word)\n",
        "      print(lemmatized_word)"
      ],
      "metadata": {
        "colab": {
          "base_uri": "https://localhost:8080/"
        },
        "id": "b_B9kDg_3XST",
        "outputId": "00b65260-63ce-4fcf-ddd8-08c99c1a6d56"
      },
      "execution_count": 104,
      "outputs": [
        {
          "output_type": "stream",
          "name": "stdout",
          "text": [
            "[\n",
            "1\n",
            "]\n",
            "[\n",
            "8\n",
            "]\n",
            "[\n",
            "9\n",
            "]\n",
            "[\n",
            "1\n",
            "]\n",
            "[\n",
            "8\n",
            "]\n",
            "[\n",
            "9\n",
            "]\n",
            "[\n",
            "1\n",
            "]\n",
            "[\n",
            "8\n",
            "]\n",
            "[\n",
            "9\n",
            "]\n",
            "[\n",
            "1\n",
            "]\n",
            "[\n",
            "8\n",
            "]\n",
            "[\n",
            "9\n",
            "]\n",
            "[\n",
            "1\n",
            "]\n",
            "[\n",
            "8\n",
            "]\n",
            "[\n",
            "9\n",
            "]\n",
            "[\n",
            "1\n",
            "]\n",
            "[\n",
            "8\n",
            "]\n",
            "[\n",
            "9\n",
            "]\n",
            "[\n",
            "1\n",
            "]\n",
            "[\n",
            "8\n",
            "]\n",
            "[\n",
            "9\n",
            "]\n",
            "[\n",
            "1\n",
            "]\n",
            "[\n",
            "8\n",
            "]\n",
            "[\n",
            "9\n",
            "]\n",
            "[\n",
            "1\n",
            "]\n",
            "[\n",
            "8\n",
            "]\n",
            "[\n",
            "9\n",
            "]\n"
          ]
        }
      ]
    },
    {
      "cell_type": "code",
      "source": [
        "#Apply BOW\n",
        "# CountVectorizer --> Convert a collection of text documents to a matrix of token counts.\n",
        "from sklearn.feature_extraction.text import CountVectorizer\n",
        "cv = CountVectorizer(binary=True, ngram_range = (2,3))\n",
        "\n"
      ],
      "metadata": {
        "id": "aFihMeAH43-S"
      },
      "execution_count": 105,
      "outputs": []
    },
    {
      "cell_type": "code",
      "source": [
        "x = cv.fit_transform(sentences)\n"
      ],
      "metadata": {
        "id": "oVxYeoHdGpsI"
      },
      "execution_count": 106,
      "outputs": []
    },
    {
      "cell_type": "code",
      "source": [
        "print(x.toarray())"
      ],
      "metadata": {
        "colab": {
          "base_uri": "https://localhost:8080/"
        },
        "id": "-x31DVFCGFcq",
        "outputId": "f577a44d-f3c3-4619-deca-233b6cdacc4d"
      },
      "execution_count": 107,
      "outputs": [
        {
          "output_type": "stream",
          "name": "stdout",
          "text": [
            "[[0 0 0 ... 0 0 0]\n",
            " [0 0 0 ... 0 0 0]\n",
            " [1 1 1 ... 1 1 1]\n",
            " ...\n",
            " [0 0 0 ... 0 0 0]\n",
            " [0 0 0 ... 0 0 0]\n",
            " [0 0 0 ... 0 0 0]]\n"
          ]
        }
      ]
    },
    {
      "cell_type": "code",
      "source": [
        "x[0].toarray()"
      ],
      "metadata": {
        "id": "EURfmpYEfMos",
        "outputId": "aa69ad8d-a974-4930-c641-65c6a3c0d88d",
        "colab": {
          "base_uri": "https://localhost:8080/"
        }
      },
      "execution_count": 108,
      "outputs": [
        {
          "output_type": "execute_result",
          "data": {
            "text/plain": [
              "array([[0, 0, 0, 0, 0, 0, 0, 0, 0, 0, 0, 0, 0, 0, 0, 0, 0, 0, 0, 0, 0, 0,\n",
              "        0, 0, 0, 0, 0, 0, 0, 0, 0, 0, 0, 0, 0, 0, 0, 0, 0, 0, 0, 0, 0, 0,\n",
              "        0, 0, 0, 0, 0, 0, 0, 0, 0, 0, 0, 0, 0, 0, 0, 0, 0, 0, 0, 0, 0, 0,\n",
              "        0, 0, 0, 0, 0, 0, 0, 0, 0, 0, 0, 0, 0, 0, 0, 0, 0, 0, 0, 0, 0, 0,\n",
              "        0, 0, 0, 0, 0, 0, 0, 0, 0, 0, 0, 0, 0, 0, 0, 0, 0, 0, 0, 0, 0, 0,\n",
              "        0, 0, 0, 0, 0, 0, 0, 0, 0, 0, 0, 0, 0, 0, 0, 0, 0, 0, 0, 0, 0, 0,\n",
              "        0, 0, 0, 0, 0, 0, 0, 0, 0, 0, 0, 0, 0, 0, 0, 0, 0, 0, 0, 0, 0, 0,\n",
              "        0, 0, 0, 0, 0, 0, 0, 0, 0, 0, 0, 0, 0, 0, 0, 0, 0, 0, 0, 0, 0, 0,\n",
              "        0, 0, 0, 0, 0, 0, 0, 0, 0, 0, 0, 0, 0, 0, 0, 0, 0, 0, 0, 0, 0, 0,\n",
              "        0, 0, 0, 0, 0, 0, 0, 0, 0, 0, 0, 0, 0, 0, 0, 0, 0, 0, 0, 0, 0, 0,\n",
              "        0, 0, 0, 0, 0, 0, 0, 0, 0, 0, 0, 1, 1, 0, 0, 0, 0, 0, 0, 0, 0, 0,\n",
              "        0, 0, 0, 0, 0, 0, 0, 0, 0, 0, 0, 0, 0, 0, 0, 0, 0, 0, 1, 0, 0, 0,\n",
              "        0, 0, 0, 0, 0, 0, 0, 0, 0, 0, 0, 0, 0, 0, 0, 0, 0, 0, 0, 0, 0, 0,\n",
              "        0, 0, 0, 0, 0, 0, 0, 0, 0, 0, 0, 0, 0, 0, 0, 0, 0, 0, 0, 0, 0, 0,\n",
              "        0, 0, 0, 0, 0, 0, 0, 0, 0, 0, 0, 0, 0, 0, 0, 0, 0, 0, 0, 0, 0, 0,\n",
              "        0, 0, 0, 0, 0]])"
            ]
          },
          "metadata": {},
          "execution_count": 108
        }
      ]
    },
    {
      "cell_type": "code",
      "source": [
        "cv.vocabulary_"
      ],
      "metadata": {
        "id": "MzDgD_X_7EcQ",
        "colab": {
          "base_uri": "https://localhost:8080/"
        },
        "outputId": "c70739a8-ae7f-421d-f00d-223190e27bce"
      },
      "execution_count": 109,
      "outputs": [
        {
          "output_type": "execute_result",
          "data": {
            "text/plain": [
              "{'osho redirects': 231,\n",
              " 'redirects here': 260,\n",
              " 'osho redirects here': 232,\n",
              " 'for other': 110,\n",
              " 'other uses': 233,\n",
              " 'uses see': 317,\n",
              " 'see rajneesh': 276,\n",
              " 'rajneesh disambiguation': 255,\n",
              " 'disambiguation and': 93,\n",
              " 'and osho': 36,\n",
              " 'osho disambiguation': 226,\n",
              " 'for other uses': 111,\n",
              " 'other uses see': 234,\n",
              " 'uses see rajneesh': 318,\n",
              " 'see rajneesh disambiguation': 277,\n",
              " 'rajneesh disambiguation and': 256,\n",
              " 'disambiguation and osho': 94,\n",
              " 'and osho disambiguation': 37,\n",
              " 'bhagwan shree': 64,\n",
              " 'shree rajneesh': 281,\n",
              " 'rajneesh rajneesh': 258,\n",
              " 'rajneesh 1977': 247,\n",
              " '1977 born': 10,\n",
              " 'born chandra': 68,\n",
              " 'chandra mohan': 78,\n",
              " 'mohan jain': 196,\n",
              " 'jain 11': 166,\n",
              " '11 december': 0,\n",
              " 'december 1931': 88,\n",
              " '1931 kuchwada': 6,\n",
              " 'kuchwada bhopal': 176,\n",
              " 'bhopal state': 66,\n",
              " 'state british': 290,\n",
              " 'british india': 70,\n",
              " 'india died': 148,\n",
              " 'died 19': 91,\n",
              " '19 january': 2,\n",
              " 'january 1990': 168,\n",
              " '1990 aged': 12,\n",
              " 'aged 58': 24,\n",
              " '58 pune': 16,\n",
              " 'pune maharashtra': 243,\n",
              " 'maharashtra india': 188,\n",
              " 'india nationality': 152,\n",
              " 'nationality indian': 208,\n",
              " 'indian education': 154,\n",
              " 'education dr': 102,\n",
              " 'dr hari': 95,\n",
              " 'hari singh': 126,\n",
              " 'singh gour': 284,\n",
              " 'gour university': 122,\n",
              " 'university ma': 315,\n",
              " 'ma known': 186,\n",
              " 'known for': 174,\n",
              " 'for spirituality': 112,\n",
              " 'spirituality mysticism': 288,\n",
              " 'mysticism anti': 206,\n",
              " 'anti religion': 40,\n",
              " 'religion movement': 265,\n",
              " 'movement neo': 202,\n",
              " 'neo sannyasins': 210,\n",
              " 'sannyasins memorial': 274,\n",
              " 'memorial osho': 194,\n",
              " 'osho international': 229,\n",
              " 'international meditation': 162,\n",
              " 'meditation resort': 192,\n",
              " 'resort pune': 272,\n",
              " 'pune website': 245,\n",
              " 'website osho': 325,\n",
              " 'osho com': 224,\n",
              " 'com rajneesh': 80,\n",
              " 'rajneesh born': 253,\n",
              " '1931 19': 4,\n",
              " '1990 also': 14,\n",
              " 'also known': 26,\n",
              " 'known as': 171,\n",
              " 'as acharya': 44,\n",
              " 'acharya rajneesh': 18,\n",
              " 'rajneesh bhagwan': 251,\n",
              " 'rajneesh and': 249,\n",
              " 'and later': 34,\n",
              " 'later as': 180,\n",
              " 'as osho': 50,\n",
              " 'osho hindi': 227,\n",
              " 'hindi pronunciation': 137,\n",
              " 'pronunciation ˈo': 241,\n",
              " 'ˈo ʃo': 333,\n",
              " 'ʃo was': 331,\n",
              " 'was an': 321,\n",
              " 'an indian': 28,\n",
              " 'indian godman': 156,\n",
              " 'godman philosopher': 120,\n",
              " 'philosopher mystic': 235,\n",
              " 'mystic and': 204,\n",
              " 'and founder': 32,\n",
              " 'founder of': 116,\n",
              " 'of the': 218,\n",
              " 'the rajneesh': 302,\n",
              " 'rajneesh movement': 257,\n",
              " 'bhagwan shree rajneesh': 65,\n",
              " 'shree rajneesh rajneesh': 283,\n",
              " 'rajneesh rajneesh 1977': 259,\n",
              " 'rajneesh 1977 born': 248,\n",
              " '1977 born chandra': 11,\n",
              " 'born chandra mohan': 69,\n",
              " 'chandra mohan jain': 79,\n",
              " 'mohan jain 11': 197,\n",
              " 'jain 11 december': 167,\n",
              " '11 december 1931': 1,\n",
              " 'december 1931 kuchwada': 90,\n",
              " '1931 kuchwada bhopal': 7,\n",
              " 'kuchwada bhopal state': 177,\n",
              " 'bhopal state british': 67,\n",
              " 'state british india': 291,\n",
              " 'british india died': 71,\n",
              " 'india died 19': 149,\n",
              " 'died 19 january': 92,\n",
              " '19 january 1990': 3,\n",
              " 'january 1990 aged': 169,\n",
              " '1990 aged 58': 13,\n",
              " 'aged 58 pune': 25,\n",
              " '58 pune maharashtra': 17,\n",
              " 'pune maharashtra india': 244,\n",
              " 'maharashtra india nationality': 189,\n",
              " 'india nationality indian': 153,\n",
              " 'nationality indian education': 209,\n",
              " 'indian education dr': 155,\n",
              " 'education dr hari': 103,\n",
              " 'dr hari singh': 96,\n",
              " 'hari singh gour': 127,\n",
              " 'singh gour university': 285,\n",
              " 'gour university ma': 123,\n",
              " 'university ma known': 316,\n",
              " 'ma known for': 187,\n",
              " 'known for spirituality': 175,\n",
              " 'for spirituality mysticism': 113,\n",
              " 'spirituality mysticism anti': 289,\n",
              " 'mysticism anti religion': 207,\n",
              " 'anti religion movement': 41,\n",
              " 'religion movement neo': 266,\n",
              " 'movement neo sannyasins': 203,\n",
              " 'neo sannyasins memorial': 211,\n",
              " 'sannyasins memorial osho': 275,\n",
              " 'memorial osho international': 195,\n",
              " 'osho international meditation': 230,\n",
              " 'international meditation resort': 163,\n",
              " 'meditation resort pune': 193,\n",
              " 'resort pune website': 273,\n",
              " 'pune website osho': 246,\n",
              " 'website osho com': 326,\n",
              " 'osho com rajneesh': 225,\n",
              " 'com rajneesh born': 81,\n",
              " 'rajneesh born chandra': 254,\n",
              " 'december 1931 19': 89,\n",
              " '1931 19 january': 5,\n",
              " 'january 1990 also': 170,\n",
              " '1990 also known': 15,\n",
              " 'also known as': 27,\n",
              " 'known as acharya': 172,\n",
              " 'as acharya rajneesh': 45,\n",
              " 'acharya rajneesh bhagwan': 19,\n",
              " 'rajneesh bhagwan shree': 252,\n",
              " 'shree rajneesh and': 282,\n",
              " 'rajneesh and later': 250,\n",
              " 'and later as': 35,\n",
              " 'later as osho': 181,\n",
              " 'as osho hindi': 51,\n",
              " 'osho hindi pronunciation': 228,\n",
              " 'hindi pronunciation ˈo': 138,\n",
              " 'pronunciation ˈo ʃo': 242,\n",
              " 'ˈo ʃo was': 334,\n",
              " 'ʃo was an': 332,\n",
              " 'was an indian': 322,\n",
              " 'an indian godman': 29,\n",
              " 'indian godman philosopher': 157,\n",
              " 'godman philosopher mystic': 121,\n",
              " 'philosopher mystic and': 236,\n",
              " 'mystic and founder': 205,\n",
              " 'and founder of': 33,\n",
              " 'founder of the': 117,\n",
              " 'of the rajneesh': 219,\n",
              " 'the rajneesh movement': 303,\n",
              " 'he was': 135,\n",
              " 'was viewed': 323,\n",
              " 'viewed as': 319,\n",
              " 'as controversial': 46,\n",
              " 'controversial new': 82,\n",
              " 'new religious': 212,\n",
              " 'religious movement': 270,\n",
              " 'movement leader': 200,\n",
              " 'leader during': 182,\n",
              " 'during his': 97,\n",
              " 'his life': 141,\n",
              " 'he was viewed': 136,\n",
              " 'was viewed as': 324,\n",
              " 'viewed as controversial': 320,\n",
              " 'as controversial new': 47,\n",
              " 'controversial new religious': 83,\n",
              " 'new religious movement': 213,\n",
              " 'religious movement leader': 271,\n",
              " 'movement leader during': 201,\n",
              " 'leader during his': 183,\n",
              " 'during his life': 98,\n",
              " 'he rejected': 133,\n",
              " 'rejected institutional': 261,\n",
              " 'institutional religions': 160,\n",
              " 'religions insisting': 267,\n",
              " 'insisting that': 158,\n",
              " 'that spiritual': 298,\n",
              " 'spiritual experience': 286,\n",
              " 'experience could': 104,\n",
              " 'could not': 86,\n",
              " 'not be': 214,\n",
              " 'be organized': 60,\n",
              " 'organized into': 222,\n",
              " 'into any': 164,\n",
              " 'any one': 42,\n",
              " 'one system': 220,\n",
              " 'system of': 292,\n",
              " 'of religious': 216,\n",
              " 'religious dogma': 269,\n",
              " 'he rejected institutional': 134,\n",
              " 'rejected institutional religions': 262,\n",
              " 'institutional religions insisting': 161,\n",
              " 'religions insisting that': 268,\n",
              " 'insisting that spiritual': 159,\n",
              " 'that spiritual experience': 299,\n",
              " 'spiritual experience could': 287,\n",
              " 'experience could not': 105,\n",
              " 'could not be': 87,\n",
              " 'not be organized': 215,\n",
              " 'be organized into': 61,\n",
              " 'organized into any': 223,\n",
              " 'into any one': 165,\n",
              " 'any one system': 43,\n",
              " 'one system of': 221,\n",
              " 'system of religious': 293,\n",
              " 'of religious dogma': 217,\n",
              " 'as guru': 48,\n",
              " 'guru he': 124,\n",
              " 'he advocated': 128,\n",
              " 'advocated meditation': 20,\n",
              " 'meditation and': 190,\n",
              " 'and taught': 38,\n",
              " 'taught unique': 294,\n",
              " 'unique form': 313,\n",
              " 'form called': 114,\n",
              " 'called dynamic': 74,\n",
              " 'dynamic meditation': 101,\n",
              " 'as guru he': 49,\n",
              " 'guru he advocated': 125,\n",
              " 'he advocated meditation': 129,\n",
              " 'advocated meditation and': 21,\n",
              " 'meditation and taught': 191,\n",
              " 'and taught unique': 39,\n",
              " 'taught unique form': 295,\n",
              " 'unique form called': 314,\n",
              " 'form called dynamic': 115,\n",
              " 'called dynamic meditation': 75,\n",
              " 'rejecting traditional': 263,\n",
              " 'traditional ascetic': 311,\n",
              " 'ascetic practices': 54,\n",
              " 'practices he': 237,\n",
              " 'advocated that': 22,\n",
              " 'that his': 296,\n",
              " 'his followers': 139,\n",
              " 'followers live': 108,\n",
              " 'live fully': 184,\n",
              " 'fully in': 118,\n",
              " 'in the': 146,\n",
              " 'the world': 306,\n",
              " 'world but': 329,\n",
              " 'but without': 72,\n",
              " 'without attachment': 327,\n",
              " 'attachment to': 56,\n",
              " 'to it': 308,\n",
              " 'rejecting traditional ascetic': 264,\n",
              " 'traditional ascetic practices': 312,\n",
              " 'ascetic practices he': 55,\n",
              " 'practices he advocated': 238,\n",
              " 'he advocated that': 130,\n",
              " 'advocated that his': 23,\n",
              " 'that his followers': 297,\n",
              " 'his followers live': 140,\n",
              " 'followers live fully': 109,\n",
              " 'live fully in': 185,\n",
              " 'fully in the': 119,\n",
              " 'in the world': 147,\n",
              " 'the world but': 307,\n",
              " 'world but without': 330,\n",
              " 'but without attachment': 73,\n",
              " 'without attachment to': 328,\n",
              " 'attachment to it': 57,\n",
              " 'in expressing': 142,\n",
              " 'expressing more': 106,\n",
              " 'more progressive': 198,\n",
              " 'progressive attitude': 239,\n",
              " 'attitude to': 58,\n",
              " 'to sexuality': 309,\n",
              " 'sexuality he': 279,\n",
              " 'he caused': 131,\n",
              " 'caused controversy': 76,\n",
              " 'controversy in': 84,\n",
              " 'in india': 144,\n",
              " 'india during': 150,\n",
              " 'during the': 99,\n",
              " 'the late': 300,\n",
              " 'late 1960s': 178,\n",
              " '1960s and': 8,\n",
              " 'and became': 30,\n",
              " 'became known': 62,\n",
              " 'as the': 52,\n",
              " 'the sex': 304,\n",
              " 'sex guru': 278,\n",
              " 'in expressing more': 143,\n",
              " 'expressing more progressive': 107,\n",
              " 'more progressive attitude': 199,\n",
              " 'progressive attitude to': 240,\n",
              " 'attitude to sexuality': 59,\n",
              " 'to sexuality he': 310,\n",
              " 'sexuality he caused': 280,\n",
              " 'he caused controversy': 132,\n",
              " 'caused controversy in': 77,\n",
              " 'controversy in india': 85,\n",
              " 'in india during': 145,\n",
              " 'india during the': 151,\n",
              " 'during the late': 100,\n",
              " 'the late 1960s': 301,\n",
              " 'late 1960s and': 179,\n",
              " '1960s and became': 9,\n",
              " 'and became known': 31,\n",
              " 'became known as': 63,\n",
              " 'known as the': 173,\n",
              " 'as the sex': 53,\n",
              " 'the sex guru': 305}"
            ]
          },
          "metadata": {},
          "execution_count": 109
        }
      ]
    },
    {
      "cell_type": "code",
      "source": [
        "# Apply TF-IDF\n",
        "from sklearn.feature_extraction.text import TfidfVectorizer\n",
        "vecterizer = TfidfVecterizer()\n",
        "x = vecterizer.fit_transform(paragraph)\n"
      ],
      "metadata": {
        "id": "A_C4Qf597Z8r",
        "colab": {
          "base_uri": "https://localhost:8080/",
          "height": 233
        },
        "outputId": "63b01fed-2a83-41ab-99ee-d3cfd59bf3ec"
      },
      "execution_count": 110,
      "outputs": [
        {
          "output_type": "error",
          "ename": "NameError",
          "evalue": "ignored",
          "traceback": [
            "\u001b[0;31m---------------------------------------------------------------------------\u001b[0m",
            "\u001b[0;31mNameError\u001b[0m                                 Traceback (most recent call last)",
            "\u001b[0;32m<ipython-input-110-5364593c94fb>\u001b[0m in \u001b[0;36m<cell line: 3>\u001b[0;34m()\u001b[0m\n\u001b[1;32m      1\u001b[0m \u001b[0;31m# Apply TF-IDF\u001b[0m\u001b[0;34m\u001b[0m\u001b[0;34m\u001b[0m\u001b[0m\n\u001b[1;32m      2\u001b[0m \u001b[0;32mfrom\u001b[0m \u001b[0msklearn\u001b[0m\u001b[0;34m.\u001b[0m\u001b[0mfeature_extraction\u001b[0m\u001b[0;34m.\u001b[0m\u001b[0mtext\u001b[0m \u001b[0;32mimport\u001b[0m \u001b[0mTfidfVectorizer\u001b[0m\u001b[0;34m\u001b[0m\u001b[0;34m\u001b[0m\u001b[0m\n\u001b[0;32m----> 3\u001b[0;31m \u001b[0mvecterizer\u001b[0m \u001b[0;34m=\u001b[0m \u001b[0mTfidfVecterizer\u001b[0m\u001b[0;34m(\u001b[0m\u001b[0;34m)\u001b[0m\u001b[0;34m\u001b[0m\u001b[0;34m\u001b[0m\u001b[0m\n\u001b[0m\u001b[1;32m      4\u001b[0m \u001b[0mx\u001b[0m \u001b[0;34m=\u001b[0m \u001b[0mvecterizer\u001b[0m\u001b[0;34m.\u001b[0m\u001b[0mfit_transform\u001b[0m\u001b[0;34m(\u001b[0m\u001b[0mparagraph\u001b[0m\u001b[0;34m)\u001b[0m\u001b[0;34m\u001b[0m\u001b[0;34m\u001b[0m\u001b[0m\n",
            "\u001b[0;31mNameError\u001b[0m: name 'TfidfVecterizer' is not defined"
          ]
        }
      ]
    }
  ]
}