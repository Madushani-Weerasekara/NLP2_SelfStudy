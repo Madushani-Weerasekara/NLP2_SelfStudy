{
  "nbformat": 4,
  "nbformat_minor": 0,
  "metadata": {
    "colab": {
      "provenance": [],
      "authorship_tag": "ABX9TyMZlba9FGX0rFrGziR9GR+N",
      "include_colab_link": true
    },
    "kernelspec": {
      "name": "python3",
      "display_name": "Python 3"
    },
    "language_info": {
      "name": "python"
    }
  },
  "cells": [
    {
      "cell_type": "markdown",
      "metadata": {
        "id": "view-in-github",
        "colab_type": "text"
      },
      "source": [
        "<a href=\"https://colab.research.google.com/github/Madushani-Weerasekara/NLP2_SelfStudy/blob/main/NLP2_SelfStudy.ipynb\" target=\"_parent\"><img src=\"https://colab.research.google.com/assets/colab-badge.svg\" alt=\"Open In Colab\"/></a>"
      ]
    },
    {
      "cell_type": "code",
      "execution_count": 105,
      "metadata": {
        "colab": {
          "base_uri": "https://localhost:8080/"
        },
        "id": "Nt0pohPVWoCO",
        "outputId": "66a7ccd3-9030-4984-d939-73d36202cd93"
      },
      "outputs": [
        {
          "output_type": "stream",
          "name": "stdout",
          "text": [
            "Requirement already satisfied: nltk in /usr/local/lib/python3.10/dist-packages (3.8.1)\n",
            "Requirement already satisfied: click in /usr/local/lib/python3.10/dist-packages (from nltk) (8.1.7)\n",
            "Requirement already satisfied: joblib in /usr/local/lib/python3.10/dist-packages (from nltk) (1.3.2)\n",
            "Requirement already satisfied: regex>=2021.8.3 in /usr/local/lib/python3.10/dist-packages (from nltk) (2023.6.3)\n",
            "Requirement already satisfied: tqdm in /usr/local/lib/python3.10/dist-packages (from nltk) (4.66.1)\n"
          ]
        }
      ],
      "source": [
        "pip install nltk\n"
      ]
    },
    {
      "cell_type": "code",
      "source": [
        "# import librarie\n",
        "import nltk\n",
        "from nltk.corpus import stopwords\n",
        "from nltk.tokenize import sent_tokenize, word_tokenize\n",
        "from nltk.stem import PorterStemmer, WordNetLemmatizer"
      ],
      "metadata": {
        "id": "mGnTl8jBaU8g"
      },
      "execution_count": 106,
      "outputs": []
    },
    {
      "cell_type": "code",
      "source": [
        "nltk.download('punkt')\n",
        "nltk.download('stopwords')\n",
        "nltk.download('wordnet')"
      ],
      "metadata": {
        "colab": {
          "base_uri": "https://localhost:8080/"
        },
        "id": "MAqgREq8Y7nB",
        "outputId": "292f7f1e-62b4-46ac-f93a-5b4bdc7c84c2"
      },
      "execution_count": 107,
      "outputs": [
        {
          "output_type": "stream",
          "name": "stderr",
          "text": [
            "[nltk_data] Downloading package punkt to /root/nltk_data...\n",
            "[nltk_data]   Package punkt is already up-to-date!\n",
            "[nltk_data] Downloading package stopwords to /root/nltk_data...\n",
            "[nltk_data]   Package stopwords is already up-to-date!\n",
            "[nltk_data] Downloading package wordnet to /root/nltk_data...\n",
            "[nltk_data]   Package wordnet is already up-to-date!\n"
          ]
        },
        {
          "output_type": "execute_result",
          "data": {
            "text/plain": [
              "True"
            ]
          },
          "metadata": {},
          "execution_count": 107
        }
      ]
    },
    {
      "cell_type": "code",
      "source": [
        "paragraph = \"\"\"Mark Elliot Zuckerberg (/ˈzʌkərbɜːrɡ/; born May 14, 1984) is an American business magnate, computer programmer, internet entrepreneur, and philanthropist. He co-founded the social media service Facebook and its parent company Meta Platforms (formerly Facebook, Inc.), of which he is executive chairman, chief executive officer and controlling shareholder.[1][2]\n",
        "\n",
        "Zuckerberg attended Harvard University, where he launched Facebook in February 2004 with his roommates Eduardo Saverin, Andrew McCollum, Dustin Moskovitz and Chris Hughes. Originally launched in only select college campuses, the site expanded rapidly and eventually beyond colleges, reaching one billion users in 2012. Zuckerberg took the company public in May 2012 with majority shares. In 2007, at age 23, he became the world's youngest self-made billionaire. He has since used his funds to organize multiple philanthropic endeavors, including the establishment of the Chan Zuckerberg Initiative.\n",
        "\n",
        "Zuckerberg has been listed as one of the most influential people in the world on four occasions in 2008, 2011, 2016 and 2019 respectively and nominated as a finalist in 2009, 2012, 2014, 2015, 2017, 2018, 2020, 2021 and 2022. He was named Person of the Year by Time magazine in 2010, the same year when Facebook eclipsed more than half a billion users.[3][4][5] In December 2016, Zuckerberg was ranked tenth on the Forbes list of The World's Most Powerful People.[6] In the Forbes 400 list of wealthiest Americans in 2023, he was ranked eighth with a personal wealth of $106 billion.[7] As of November 2023, Zuckerberg's net worth was estimated at $107 billion by Forbes, making him the seventh richest person in the world.[8] A film depicting Zuckerberg's early career, legal troubles and initial success with the site, The Social Network, was released in 2010 and won multiple Academy Awards. \"\"\"\n",
        "\n",
        "print(paragraph)"
      ],
      "metadata": {
        "colab": {
          "base_uri": "https://localhost:8080/"
        },
        "id": "In9dpCu4bgaS",
        "outputId": "f43d36c2-5b4c-47ea-eb98-6a38d14b682a"
      },
      "execution_count": 108,
      "outputs": [
        {
          "output_type": "stream",
          "name": "stdout",
          "text": [
            "Mark Elliot Zuckerberg (/ˈzʌkərbɜːrɡ/; born May 14, 1984) is an American business magnate, computer programmer, internet entrepreneur, and philanthropist. He co-founded the social media service Facebook and its parent company Meta Platforms (formerly Facebook, Inc.), of which he is executive chairman, chief executive officer and controlling shareholder.[1][2]\n",
            "\n",
            "Zuckerberg attended Harvard University, where he launched Facebook in February 2004 with his roommates Eduardo Saverin, Andrew McCollum, Dustin Moskovitz and Chris Hughes. Originally launched in only select college campuses, the site expanded rapidly and eventually beyond colleges, reaching one billion users in 2012. Zuckerberg took the company public in May 2012 with majority shares. In 2007, at age 23, he became the world's youngest self-made billionaire. He has since used his funds to organize multiple philanthropic endeavors, including the establishment of the Chan Zuckerberg Initiative.\n",
            "\n",
            "Zuckerberg has been listed as one of the most influential people in the world on four occasions in 2008, 2011, 2016 and 2019 respectively and nominated as a finalist in 2009, 2012, 2014, 2015, 2017, 2018, 2020, 2021 and 2022. He was named Person of the Year by Time magazine in 2010, the same year when Facebook eclipsed more than half a billion users.[3][4][5] In December 2016, Zuckerberg was ranked tenth on the Forbes list of The World's Most Powerful People.[6] In the Forbes 400 list of wealthiest Americans in 2023, he was ranked eighth with a personal wealth of $106 billion.[7] As of November 2023, Zuckerberg's net worth was estimated at $107 billion by Forbes, making him the seventh richest person in the world.[8] A film depicting Zuckerberg's early career, legal troubles and initial success with the site, The Social Network, was released in 2010 and won multiple Academy Awards. \n"
          ]
        }
      ]
    },
    {
      "cell_type": "code",
      "source": [
        "# Tokenization\n",
        "# cnvert paragraph into sentences\n",
        "sentences = nltk.sent_tokenize(paragraph)\n",
        "print(sentences)\n",
        "\n",
        ""
      ],
      "metadata": {
        "colab": {
          "base_uri": "https://localhost:8080/"
        },
        "id": "2R_s8DOmcMSn",
        "outputId": "d14c0a67-9d89-4c9d-d704-92ecb373a6b3"
      },
      "execution_count": 109,
      "outputs": [
        {
          "output_type": "stream",
          "name": "stdout",
          "text": [
            "['Mark Elliot Zuckerberg (/ˈzʌkərbɜːrɡ/; born May 14, 1984) is an American business magnate, computer programmer, internet entrepreneur, and philanthropist.', 'He co-founded the social media service Facebook and its parent company Meta Platforms (formerly Facebook, Inc.), of which he is executive chairman, chief executive officer and controlling shareholder.', '[1][2]\\n\\nZuckerberg attended Harvard University, where he launched Facebook in February 2004 with his roommates Eduardo Saverin, Andrew McCollum, Dustin Moskovitz and Chris Hughes.', 'Originally launched in only select college campuses, the site expanded rapidly and eventually beyond colleges, reaching one billion users in 2012.', 'Zuckerberg took the company public in May 2012 with majority shares.', \"In 2007, at age 23, he became the world's youngest self-made billionaire.\", 'He has since used his funds to organize multiple philanthropic endeavors, including the establishment of the Chan Zuckerberg Initiative.', 'Zuckerberg has been listed as one of the most influential people in the world on four occasions in 2008, 2011, 2016 and 2019 respectively and nominated as a finalist in 2009, 2012, 2014, 2015, 2017, 2018, 2020, 2021 and 2022.', 'He was named Person of the Year by Time magazine in 2010, the same year when Facebook eclipsed more than half a billion users.', \"[3][4][5] In December 2016, Zuckerberg was ranked tenth on the Forbes list of The World's Most Powerful People.\", '[6] In the Forbes 400 list of wealthiest Americans in 2023, he was ranked eighth with a personal wealth of $106 billion.', \"[7] As of November 2023, Zuckerberg's net worth was estimated at $107 billion by Forbes, making him the seventh richest person in the world.\", \"[8] A film depicting Zuckerberg's early career, legal troubles and initial success with the site, The Social Network, was released in 2010 and won multiple Academy Awards.\"]\n"
          ]
        }
      ]
    },
    {
      "cell_type": "code",
      "source": [
        "len(sentences)"
      ],
      "metadata": {
        "colab": {
          "base_uri": "https://localhost:8080/"
        },
        "id": "J5ZXnwO0roS9",
        "outputId": "04531fa8-cbed-4da1-85ef-0937ca7a63b9"
      },
      "execution_count": 110,
      "outputs": [
        {
          "output_type": "execute_result",
          "data": {
            "text/plain": [
              "13"
            ]
          },
          "metadata": {},
          "execution_count": 110
        }
      ]
    },
    {
      "cell_type": "code",
      "source": [
        "# Split sentences into words\n",
        "for sentence in sentences:\n",
        "  words = nltk.word_tokenize(sentence)\n",
        "  print(words)"
      ],
      "metadata": {
        "colab": {
          "base_uri": "https://localhost:8080/"
        },
        "id": "AQrFKWxvw4Z6",
        "outputId": "7ddb26d2-6d95-46f8-81f3-bf759ae84749"
      },
      "execution_count": 111,
      "outputs": [
        {
          "output_type": "stream",
          "name": "stdout",
          "text": [
            "['Mark', 'Elliot', 'Zuckerberg', '(', '/ˈzʌkərbɜːrɡ/', ';', 'born', 'May', '14', ',', '1984', ')', 'is', 'an', 'American', 'business', 'magnate', ',', 'computer', 'programmer', ',', 'internet', 'entrepreneur', ',', 'and', 'philanthropist', '.']\n",
            "['He', 'co-founded', 'the', 'social', 'media', 'service', 'Facebook', 'and', 'its', 'parent', 'company', 'Meta', 'Platforms', '(', 'formerly', 'Facebook', ',', 'Inc.', ')', ',', 'of', 'which', 'he', 'is', 'executive', 'chairman', ',', 'chief', 'executive', 'officer', 'and', 'controlling', 'shareholder', '.']\n",
            "['[', '1', ']', '[', '2', ']', 'Zuckerberg', 'attended', 'Harvard', 'University', ',', 'where', 'he', 'launched', 'Facebook', 'in', 'February', '2004', 'with', 'his', 'roommates', 'Eduardo', 'Saverin', ',', 'Andrew', 'McCollum', ',', 'Dustin', 'Moskovitz', 'and', 'Chris', 'Hughes', '.']\n",
            "['Originally', 'launched', 'in', 'only', 'select', 'college', 'campuses', ',', 'the', 'site', 'expanded', 'rapidly', 'and', 'eventually', 'beyond', 'colleges', ',', 'reaching', 'one', 'billion', 'users', 'in', '2012', '.']\n",
            "['Zuckerberg', 'took', 'the', 'company', 'public', 'in', 'May', '2012', 'with', 'majority', 'shares', '.']\n",
            "['In', '2007', ',', 'at', 'age', '23', ',', 'he', 'became', 'the', 'world', \"'s\", 'youngest', 'self-made', 'billionaire', '.']\n",
            "['He', 'has', 'since', 'used', 'his', 'funds', 'to', 'organize', 'multiple', 'philanthropic', 'endeavors', ',', 'including', 'the', 'establishment', 'of', 'the', 'Chan', 'Zuckerberg', 'Initiative', '.']\n",
            "['Zuckerberg', 'has', 'been', 'listed', 'as', 'one', 'of', 'the', 'most', 'influential', 'people', 'in', 'the', 'world', 'on', 'four', 'occasions', 'in', '2008', ',', '2011', ',', '2016', 'and', '2019', 'respectively', 'and', 'nominated', 'as', 'a', 'finalist', 'in', '2009', ',', '2012', ',', '2014', ',', '2015', ',', '2017', ',', '2018', ',', '2020', ',', '2021', 'and', '2022', '.']\n",
            "['He', 'was', 'named', 'Person', 'of', 'the', 'Year', 'by', 'Time', 'magazine', 'in', '2010', ',', 'the', 'same', 'year', 'when', 'Facebook', 'eclipsed', 'more', 'than', 'half', 'a', 'billion', 'users', '.']\n",
            "['[', '3', ']', '[', '4', ']', '[', '5', ']', 'In', 'December', '2016', ',', 'Zuckerberg', 'was', 'ranked', 'tenth', 'on', 'the', 'Forbes', 'list', 'of', 'The', 'World', \"'s\", 'Most', 'Powerful', 'People', '.']\n",
            "['[', '6', ']', 'In', 'the', 'Forbes', '400', 'list', 'of', 'wealthiest', 'Americans', 'in', '2023', ',', 'he', 'was', 'ranked', 'eighth', 'with', 'a', 'personal', 'wealth', 'of', '$', '106', 'billion', '.']\n",
            "['[', '7', ']', 'As', 'of', 'November', '2023', ',', 'Zuckerberg', \"'s\", 'net', 'worth', 'was', 'estimated', 'at', '$', '107', 'billion', 'by', 'Forbes', ',', 'making', 'him', 'the', 'seventh', 'richest', 'person', 'in', 'the', 'world', '.']\n",
            "['[', '8', ']', 'A', 'film', 'depicting', 'Zuckerberg', \"'s\", 'early', 'career', ',', 'legal', 'troubles', 'and', 'initial', 'success', 'with', 'the', 'site', ',', 'The', 'Social', 'Network', ',', 'was', 'released', 'in', '2010', 'and', 'won', 'multiple', 'Academy', 'Awards', '.']\n"
          ]
        }
      ]
    },
    {
      "cell_type": "code",
      "source": [
        "# clean the text using re\n",
        "import re\n",
        "for i in range(len(sentences)):\n",
        "  stop_words = set (stopwords.words('english'))\n",
        "  cleaned_text = re.sub('[^a-zA-Z]', \" \", sentences[i])\n",
        "  cleaned_text = cleaned_text.lower()\n",
        "  cleaned_text = cleaned_text.split()\n",
        "print(cleaned_text)\n",
        "\n",
        "\n"
      ],
      "metadata": {
        "colab": {
          "base_uri": "https://localhost:8080/"
        },
        "id": "K6g2sREWxWEn",
        "outputId": "79ba3511-9743-44db-856d-f6304c6c83a5"
      },
      "execution_count": 112,
      "outputs": [
        {
          "output_type": "stream",
          "name": "stdout",
          "text": [
            "['a', 'film', 'depicting', 'zuckerberg', 's', 'early', 'career', 'legal', 'troubles', 'and', 'initial', 'success', 'with', 'the', 'site', 'the', 'social', 'network', 'was', 'released', 'in', 'and', 'won', 'multiple', 'academy', 'awards']\n"
          ]
        }
      ]
    },
    {
      "cell_type": "code",
      "source": [
        "#apply stemming\n",
        "stemmer = PorterStemmer()\n",
        "for word in words:\n",
        "  if word not in set(stopwords.words('english')):\n",
        "    stemmed_words = stemmer.stem(word)\n",
        "  print(stemmed_words)"
      ],
      "metadata": {
        "colab": {
          "base_uri": "https://localhost:8080/"
        },
        "id": "nETPpBWR1pPj",
        "outputId": "8f8aaedf-adbd-45bb-b167-ca1c5951ae06"
      },
      "execution_count": 113,
      "outputs": [
        {
          "output_type": "stream",
          "name": "stdout",
          "text": [
            "[\n",
            "8\n",
            "]\n",
            "a\n",
            "film\n",
            "depict\n",
            "zuckerberg\n",
            "'s\n",
            "earli\n",
            "career\n",
            ",\n",
            "legal\n",
            "troubl\n",
            "troubl\n",
            "initi\n",
            "success\n",
            "success\n",
            "success\n",
            "site\n",
            ",\n",
            "the\n",
            "social\n",
            "network\n",
            ",\n",
            ",\n",
            "releas\n",
            "releas\n",
            "2010\n",
            "2010\n",
            "2010\n",
            "multipl\n",
            "academi\n",
            "award\n",
            ".\n"
          ]
        }
      ]
    }
  ]
}