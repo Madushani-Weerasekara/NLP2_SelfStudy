{
  "nbformat": 4,
  "nbformat_minor": 0,
  "metadata": {
    "colab": {
      "provenance": [],
      "authorship_tag": "ABX9TyOUV+qCoDhSWjHNU4jrfSO2",
      "include_colab_link": true
    },
    "kernelspec": {
      "name": "python3",
      "display_name": "Python 3"
    },
    "language_info": {
      "name": "python"
    }
  },
  "cells": [
    {
      "cell_type": "markdown",
      "metadata": {
        "id": "view-in-github",
        "colab_type": "text"
      },
      "source": [
        "<a href=\"https://colab.research.google.com/github/Madushani-Weerasekara/NLP2_SelfStudy/blob/main/NLP2_SelfStudy.ipynb\" target=\"_parent\"><img src=\"https://colab.research.google.com/assets/colab-badge.svg\" alt=\"Open In Colab\"/></a>"
      ]
    },
    {
      "cell_type": "code",
      "execution_count": 83,
      "metadata": {
        "colab": {
          "base_uri": "https://localhost:8080/"
        },
        "id": "Nt0pohPVWoCO",
        "outputId": "0bbcdc16-48d6-438a-8c08-d084d18c9059"
      },
      "outputs": [
        {
          "output_type": "stream",
          "name": "stdout",
          "text": [
            "Requirement already satisfied: nltk in /usr/local/lib/python3.10/dist-packages (3.8.1)\n",
            "Requirement already satisfied: click in /usr/local/lib/python3.10/dist-packages (from nltk) (8.1.7)\n",
            "Requirement already satisfied: joblib in /usr/local/lib/python3.10/dist-packages (from nltk) (1.3.2)\n",
            "Requirement already satisfied: regex>=2021.8.3 in /usr/local/lib/python3.10/dist-packages (from nltk) (2023.6.3)\n",
            "Requirement already satisfied: tqdm in /usr/local/lib/python3.10/dist-packages (from nltk) (4.66.1)\n"
          ]
        }
      ],
      "source": [
        "pip install nltk\n"
      ]
    },
    {
      "cell_type": "code",
      "source": [
        "# import librarie\n",
        "import nltk\n",
        "from nltk.corpus import stopwords\n",
        "from nltk.tokenize import sent_tokenize, word_tokenize\n",
        "from nltk.stem import PorterStemmer, WordNetLemmatizer"
      ],
      "metadata": {
        "id": "mGnTl8jBaU8g"
      },
      "execution_count": 84,
      "outputs": []
    },
    {
      "cell_type": "code",
      "source": [
        "nltk.download('punkt')\n",
        "nltk.download('stopwords')\n",
        "nltk.download('wordnet')"
      ],
      "metadata": {
        "colab": {
          "base_uri": "https://localhost:8080/"
        },
        "id": "MAqgREq8Y7nB",
        "outputId": "42b5e49d-f424-4876-cbf5-4ceecf9a9ff5"
      },
      "execution_count": 85,
      "outputs": [
        {
          "output_type": "stream",
          "name": "stderr",
          "text": [
            "[nltk_data] Downloading package punkt to /root/nltk_data...\n",
            "[nltk_data]   Package punkt is already up-to-date!\n",
            "[nltk_data] Downloading package stopwords to /root/nltk_data...\n",
            "[nltk_data]   Package stopwords is already up-to-date!\n",
            "[nltk_data] Downloading package wordnet to /root/nltk_data...\n",
            "[nltk_data]   Package wordnet is already up-to-date!\n"
          ]
        },
        {
          "output_type": "execute_result",
          "data": {
            "text/plain": [
              "True"
            ]
          },
          "metadata": {},
          "execution_count": 85
        }
      ]
    },
    {
      "cell_type": "code",
      "source": [
        "paragraph = \"\"\"Mark Elliot Zuckerberg (/ˈzʌkərbɜːrɡ/; born May 14, 1984) is an American business magnate, computer programmer, internet entrepreneur, and philanthropist. He co-founded the social media service Facebook and its parent company Meta Platforms (formerly Facebook, Inc.), of which he is executive chairman, chief executive officer and controlling shareholder.[1][2]\n",
        "\n",
        "Zuckerberg attended Harvard University, where he launched Facebook in February 2004 with his roommates Eduardo Saverin, Andrew McCollum, Dustin Moskovitz and Chris Hughes. Originally launched in only select college campuses, the site expanded rapidly and eventually beyond colleges, reaching one billion users in 2012. Zuckerberg took the company public in May 2012 with majority shares. In 2007, at age 23, he became the world's youngest self-made billionaire. He has since used his funds to organize multiple philanthropic endeavors, including the establishment of the Chan Zuckerberg Initiative.\n",
        "\n",
        "Zuckerberg has been listed as one of the most influential people in the world on four occasions in 2008, 2011, 2016 and 2019 respectively and nominated as a finalist in 2009, 2012, 2014, 2015, 2017, 2018, 2020, 2021 and 2022. He was named Person of the Year by Time magazine in 2010, the same year when Facebook eclipsed more than half a billion users.[3][4][5] In December 2016, Zuckerberg was ranked tenth on the Forbes list of The World's Most Powerful People.[6] In the Forbes 400 list of wealthiest Americans in 2023, he was ranked eighth with a personal wealth of $106 billion.[7] As of November 2023, Zuckerberg's net worth was estimated at $107 billion by Forbes, making him the seventh richest person in the world.[8] A film depicting Zuckerberg's early career, legal troubles and initial success with the site, The Social Network, was released in 2010 and won multiple Academy Awards. \"\"\"\n",
        "\n",
        "print(paragraph)"
      ],
      "metadata": {
        "colab": {
          "base_uri": "https://localhost:8080/"
        },
        "id": "In9dpCu4bgaS",
        "outputId": "143fae05-627a-4fa4-ff76-82af126e5bda"
      },
      "execution_count": 86,
      "outputs": [
        {
          "output_type": "stream",
          "name": "stdout",
          "text": [
            "Mark Elliot Zuckerberg (/ˈzʌkərbɜːrɡ/; born May 14, 1984) is an American business magnate, computer programmer, internet entrepreneur, and philanthropist. He co-founded the social media service Facebook and its parent company Meta Platforms (formerly Facebook, Inc.), of which he is executive chairman, chief executive officer and controlling shareholder.[1][2]\n",
            "\n",
            "Zuckerberg attended Harvard University, where he launched Facebook in February 2004 with his roommates Eduardo Saverin, Andrew McCollum, Dustin Moskovitz and Chris Hughes. Originally launched in only select college campuses, the site expanded rapidly and eventually beyond colleges, reaching one billion users in 2012. Zuckerberg took the company public in May 2012 with majority shares. In 2007, at age 23, he became the world's youngest self-made billionaire. He has since used his funds to organize multiple philanthropic endeavors, including the establishment of the Chan Zuckerberg Initiative.\n",
            "\n",
            "Zuckerberg has been listed as one of the most influential people in the world on four occasions in 2008, 2011, 2016 and 2019 respectively and nominated as a finalist in 2009, 2012, 2014, 2015, 2017, 2018, 2020, 2021 and 2022. He was named Person of the Year by Time magazine in 2010, the same year when Facebook eclipsed more than half a billion users.[3][4][5] In December 2016, Zuckerberg was ranked tenth on the Forbes list of The World's Most Powerful People.[6] In the Forbes 400 list of wealthiest Americans in 2023, he was ranked eighth with a personal wealth of $106 billion.[7] As of November 2023, Zuckerberg's net worth was estimated at $107 billion by Forbes, making him the seventh richest person in the world.[8] A film depicting Zuckerberg's early career, legal troubles and initial success with the site, The Social Network, was released in 2010 and won multiple Academy Awards. \n"
          ]
        }
      ]
    },
    {
      "cell_type": "code",
      "source": [
        "# Tokenization\n",
        "# cnvert paragraph into sentences\n",
        "sentences = nltk.sent_tokenize(paragraph)\n",
        "print(sentences)\n",
        "\n",
        ""
      ],
      "metadata": {
        "colab": {
          "base_uri": "https://localhost:8080/"
        },
        "id": "2R_s8DOmcMSn",
        "outputId": "5ac3a7d9-7597-48d0-f7b7-27aa531663d0"
      },
      "execution_count": 87,
      "outputs": [
        {
          "output_type": "stream",
          "name": "stdout",
          "text": [
            "['Mark Elliot Zuckerberg (/ˈzʌkərbɜːrɡ/; born May 14, 1984) is an American business magnate, computer programmer, internet entrepreneur, and philanthropist.', 'He co-founded the social media service Facebook and its parent company Meta Platforms (formerly Facebook, Inc.), of which he is executive chairman, chief executive officer and controlling shareholder.', '[1][2]\\n\\nZuckerberg attended Harvard University, where he launched Facebook in February 2004 with his roommates Eduardo Saverin, Andrew McCollum, Dustin Moskovitz and Chris Hughes.', 'Originally launched in only select college campuses, the site expanded rapidly and eventually beyond colleges, reaching one billion users in 2012.', 'Zuckerberg took the company public in May 2012 with majority shares.', \"In 2007, at age 23, he became the world's youngest self-made billionaire.\", 'He has since used his funds to organize multiple philanthropic endeavors, including the establishment of the Chan Zuckerberg Initiative.', 'Zuckerberg has been listed as one of the most influential people in the world on four occasions in 2008, 2011, 2016 and 2019 respectively and nominated as a finalist in 2009, 2012, 2014, 2015, 2017, 2018, 2020, 2021 and 2022.', 'He was named Person of the Year by Time magazine in 2010, the same year when Facebook eclipsed more than half a billion users.', \"[3][4][5] In December 2016, Zuckerberg was ranked tenth on the Forbes list of The World's Most Powerful People.\", '[6] In the Forbes 400 list of wealthiest Americans in 2023, he was ranked eighth with a personal wealth of $106 billion.', \"[7] As of November 2023, Zuckerberg's net worth was estimated at $107 billion by Forbes, making him the seventh richest person in the world.\", \"[8] A film depicting Zuckerberg's early career, legal troubles and initial success with the site, The Social Network, was released in 2010 and won multiple Academy Awards.\"]\n"
          ]
        }
      ]
    },
    {
      "cell_type": "code",
      "source": [
        "len(sentences)"
      ],
      "metadata": {
        "colab": {
          "base_uri": "https://localhost:8080/"
        },
        "id": "J5ZXnwO0roS9",
        "outputId": "2e0153d4-5a39-4c04-e80c-e0312f610366"
      },
      "execution_count": 88,
      "outputs": [
        {
          "output_type": "execute_result",
          "data": {
            "text/plain": [
              "13"
            ]
          },
          "metadata": {},
          "execution_count": 88
        }
      ]
    },
    {
      "cell_type": "code",
      "source": [
        "# Split sentences into words\n",
        "for sentence in sentences:\n",
        "  words = nltk.word_tokenize(sentence)\n",
        "  print(words)"
      ],
      "metadata": {
        "colab": {
          "base_uri": "https://localhost:8080/"
        },
        "id": "AQrFKWxvw4Z6",
        "outputId": "1b702b5d-c163-45cc-a1d8-cc794e0297be"
      },
      "execution_count": 89,
      "outputs": [
        {
          "output_type": "stream",
          "name": "stdout",
          "text": [
            "['Mark', 'Elliot', 'Zuckerberg', '(', '/ˈzʌkərbɜːrɡ/', ';', 'born', 'May', '14', ',', '1984', ')', 'is', 'an', 'American', 'business', 'magnate', ',', 'computer', 'programmer', ',', 'internet', 'entrepreneur', ',', 'and', 'philanthropist', '.']\n",
            "['He', 'co-founded', 'the', 'social', 'media', 'service', 'Facebook', 'and', 'its', 'parent', 'company', 'Meta', 'Platforms', '(', 'formerly', 'Facebook', ',', 'Inc.', ')', ',', 'of', 'which', 'he', 'is', 'executive', 'chairman', ',', 'chief', 'executive', 'officer', 'and', 'controlling', 'shareholder', '.']\n",
            "['[', '1', ']', '[', '2', ']', 'Zuckerberg', 'attended', 'Harvard', 'University', ',', 'where', 'he', 'launched', 'Facebook', 'in', 'February', '2004', 'with', 'his', 'roommates', 'Eduardo', 'Saverin', ',', 'Andrew', 'McCollum', ',', 'Dustin', 'Moskovitz', 'and', 'Chris', 'Hughes', '.']\n",
            "['Originally', 'launched', 'in', 'only', 'select', 'college', 'campuses', ',', 'the', 'site', 'expanded', 'rapidly', 'and', 'eventually', 'beyond', 'colleges', ',', 'reaching', 'one', 'billion', 'users', 'in', '2012', '.']\n",
            "['Zuckerberg', 'took', 'the', 'company', 'public', 'in', 'May', '2012', 'with', 'majority', 'shares', '.']\n",
            "['In', '2007', ',', 'at', 'age', '23', ',', 'he', 'became', 'the', 'world', \"'s\", 'youngest', 'self-made', 'billionaire', '.']\n",
            "['He', 'has', 'since', 'used', 'his', 'funds', 'to', 'organize', 'multiple', 'philanthropic', 'endeavors', ',', 'including', 'the', 'establishment', 'of', 'the', 'Chan', 'Zuckerberg', 'Initiative', '.']\n",
            "['Zuckerberg', 'has', 'been', 'listed', 'as', 'one', 'of', 'the', 'most', 'influential', 'people', 'in', 'the', 'world', 'on', 'four', 'occasions', 'in', '2008', ',', '2011', ',', '2016', 'and', '2019', 'respectively', 'and', 'nominated', 'as', 'a', 'finalist', 'in', '2009', ',', '2012', ',', '2014', ',', '2015', ',', '2017', ',', '2018', ',', '2020', ',', '2021', 'and', '2022', '.']\n",
            "['He', 'was', 'named', 'Person', 'of', 'the', 'Year', 'by', 'Time', 'magazine', 'in', '2010', ',', 'the', 'same', 'year', 'when', 'Facebook', 'eclipsed', 'more', 'than', 'half', 'a', 'billion', 'users', '.']\n",
            "['[', '3', ']', '[', '4', ']', '[', '5', ']', 'In', 'December', '2016', ',', 'Zuckerberg', 'was', 'ranked', 'tenth', 'on', 'the', 'Forbes', 'list', 'of', 'The', 'World', \"'s\", 'Most', 'Powerful', 'People', '.']\n",
            "['[', '6', ']', 'In', 'the', 'Forbes', '400', 'list', 'of', 'wealthiest', 'Americans', 'in', '2023', ',', 'he', 'was', 'ranked', 'eighth', 'with', 'a', 'personal', 'wealth', 'of', '$', '106', 'billion', '.']\n",
            "['[', '7', ']', 'As', 'of', 'November', '2023', ',', 'Zuckerberg', \"'s\", 'net', 'worth', 'was', 'estimated', 'at', '$', '107', 'billion', 'by', 'Forbes', ',', 'making', 'him', 'the', 'seventh', 'richest', 'person', 'in', 'the', 'world', '.']\n",
            "['[', '8', ']', 'A', 'film', 'depicting', 'Zuckerberg', \"'s\", 'early', 'career', ',', 'legal', 'troubles', 'and', 'initial', 'success', 'with', 'the', 'site', ',', 'The', 'Social', 'Network', ',', 'was', 'released', 'in', '2010', 'and', 'won', 'multiple', 'Academy', 'Awards', '.']\n"
          ]
        }
      ]
    },
    {
      "cell_type": "code",
      "source": [
        "# clean the text using re\n",
        "import re\n",
        "for i in range(len(sentences)):\n",
        "  stop_words = set (stopwords.words('english'))\n",
        "  cleaned_text = re.sub('[^a-zA-Z]', \" \", sentences[i])\n",
        "  cleaned_text = cleaned_text.lower()\n",
        "  cleaned_text = cleaned_text.split()\n",
        "  print(cleaned_text)\n",
        "\n"
      ],
      "metadata": {
        "colab": {
          "base_uri": "https://localhost:8080/"
        },
        "id": "K6g2sREWxWEn",
        "outputId": "93e7b153-ce39-47c5-b6f2-a9be41941b00"
      },
      "execution_count": 94,
      "outputs": [
        {
          "output_type": "stream",
          "name": "stdout",
          "text": [
            "['mark', 'elliot', 'zuckerberg', 'z', 'k', 'rb', 'r', 'born', 'may', 'is', 'an', 'american', 'business', 'magnate', 'computer', 'programmer', 'internet', 'entrepreneur', 'and', 'philanthropist']\n",
            "['he', 'co', 'founded', 'the', 'social', 'media', 'service', 'facebook', 'and', 'its', 'parent', 'company', 'meta', 'platforms', 'formerly', 'facebook', 'inc', 'of', 'which', 'he', 'is', 'executive', 'chairman', 'chief', 'executive', 'officer', 'and', 'controlling', 'shareholder']\n",
            "['zuckerberg', 'attended', 'harvard', 'university', 'where', 'he', 'launched', 'facebook', 'in', 'february', 'with', 'his', 'roommates', 'eduardo', 'saverin', 'andrew', 'mccollum', 'dustin', 'moskovitz', 'and', 'chris', 'hughes']\n",
            "['originally', 'launched', 'in', 'only', 'select', 'college', 'campuses', 'the', 'site', 'expanded', 'rapidly', 'and', 'eventually', 'beyond', 'colleges', 'reaching', 'one', 'billion', 'users', 'in']\n",
            "['zuckerberg', 'took', 'the', 'company', 'public', 'in', 'may', 'with', 'majority', 'shares']\n",
            "['in', 'at', 'age', 'he', 'became', 'the', 'world', 's', 'youngest', 'self', 'made', 'billionaire']\n",
            "['he', 'has', 'since', 'used', 'his', 'funds', 'to', 'organize', 'multiple', 'philanthropic', 'endeavors', 'including', 'the', 'establishment', 'of', 'the', 'chan', 'zuckerberg', 'initiative']\n",
            "['zuckerberg', 'has', 'been', 'listed', 'as', 'one', 'of', 'the', 'most', 'influential', 'people', 'in', 'the', 'world', 'on', 'four', 'occasions', 'in', 'and', 'respectively', 'and', 'nominated', 'as', 'a', 'finalist', 'in', 'and']\n",
            "['he', 'was', 'named', 'person', 'of', 'the', 'year', 'by', 'time', 'magazine', 'in', 'the', 'same', 'year', 'when', 'facebook', 'eclipsed', 'more', 'than', 'half', 'a', 'billion', 'users']\n",
            "['in', 'december', 'zuckerberg', 'was', 'ranked', 'tenth', 'on', 'the', 'forbes', 'list', 'of', 'the', 'world', 's', 'most', 'powerful', 'people']\n",
            "['in', 'the', 'forbes', 'list', 'of', 'wealthiest', 'americans', 'in', 'he', 'was', 'ranked', 'eighth', 'with', 'a', 'personal', 'wealth', 'of', 'billion']\n",
            "['as', 'of', 'november', 'zuckerberg', 's', 'net', 'worth', 'was', 'estimated', 'at', 'billion', 'by', 'forbes', 'making', 'him', 'the', 'seventh', 'richest', 'person', 'in', 'the', 'world']\n",
            "['a', 'film', 'depicting', 'zuckerberg', 's', 'early', 'career', 'legal', 'troubles', 'and', 'initial', 'success', 'with', 'the', 'site', 'the', 'social', 'network', 'was', 'released', 'in', 'and', 'won', 'multiple', 'academy', 'awards']\n"
          ]
        }
      ]
    }
  ]
}