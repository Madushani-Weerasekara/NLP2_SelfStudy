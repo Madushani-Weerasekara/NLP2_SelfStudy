{
  "nbformat": 4,
  "nbformat_minor": 0,
  "metadata": {
    "colab": {
      "provenance": [],
      "authorship_tag": "ABX9TyNMHF5AqKNwC6COOX3pc07u",
      "include_colab_link": true
    },
    "kernelspec": {
      "name": "python3",
      "display_name": "Python 3"
    },
    "language_info": {
      "name": "python"
    }
  },
  "cells": [
    {
      "cell_type": "markdown",
      "metadata": {
        "id": "view-in-github",
        "colab_type": "text"
      },
      "source": [
        "<a href=\"https://colab.research.google.com/github/Madushani-Weerasekara/NLP2_SelfStudy/blob/main/NLP2_SelfStudy.ipynb\" target=\"_parent\"><img src=\"https://colab.research.google.com/assets/colab-badge.svg\" alt=\"Open In Colab\"/></a>"
      ]
    },
    {
      "cell_type": "code",
      "execution_count": 159,
      "metadata": {
        "colab": {
          "base_uri": "https://localhost:8080/"
        },
        "id": "Nt0pohPVWoCO",
        "outputId": "75ae0936-cdfc-4bb5-edf8-ac25c7fb13a8"
      },
      "outputs": [
        {
          "output_type": "stream",
          "name": "stdout",
          "text": [
            "Requirement already satisfied: nltk in /usr/local/lib/python3.10/dist-packages (3.8.1)\n",
            "Requirement already satisfied: click in /usr/local/lib/python3.10/dist-packages (from nltk) (8.1.7)\n",
            "Requirement already satisfied: joblib in /usr/local/lib/python3.10/dist-packages (from nltk) (1.3.2)\n",
            "Requirement already satisfied: regex>=2021.8.3 in /usr/local/lib/python3.10/dist-packages (from nltk) (2023.6.3)\n",
            "Requirement already satisfied: tqdm in /usr/local/lib/python3.10/dist-packages (from nltk) (4.66.1)\n"
          ]
        }
      ],
      "source": [
        "pip install nltk\n"
      ]
    },
    {
      "cell_type": "code",
      "source": [
        "# import librarie\n",
        "import nltk\n",
        "from nltk.corpus import stopwords\n",
        "from nltk.tokenize import sent_tokenize, word_tokenize\n",
        "from nltk.stem import PorterStemmer, WordNetLemmatizer"
      ],
      "metadata": {
        "id": "mGnTl8jBaU8g"
      },
      "execution_count": 160,
      "outputs": []
    },
    {
      "cell_type": "code",
      "source": [
        "nltk.download('punkt')\n",
        "nltk.download('stopwords')\n",
        "nltk.download('wordnet')"
      ],
      "metadata": {
        "colab": {
          "base_uri": "https://localhost:8080/"
        },
        "id": "MAqgREq8Y7nB",
        "outputId": "14fa27b7-f682-4bed-a69d-7257284d0fd2"
      },
      "execution_count": 161,
      "outputs": [
        {
          "output_type": "stream",
          "name": "stderr",
          "text": [
            "[nltk_data] Downloading package punkt to /root/nltk_data...\n",
            "[nltk_data]   Package punkt is already up-to-date!\n",
            "[nltk_data] Downloading package stopwords to /root/nltk_data...\n",
            "[nltk_data]   Package stopwords is already up-to-date!\n",
            "[nltk_data] Downloading package wordnet to /root/nltk_data...\n",
            "[nltk_data]   Package wordnet is already up-to-date!\n"
          ]
        },
        {
          "output_type": "execute_result",
          "data": {
            "text/plain": [
              "True"
            ]
          },
          "metadata": {},
          "execution_count": 161
        }
      ]
    },
    {
      "cell_type": "code",
      "source": [
        "paragraph = \"\"\"Osho\" redirects here. For other uses, see Rajneesh (disambiguation) and Osho (disambiguation).\n",
        "Bhagwan Shree Rajneesh\n",
        "Rajneesh c. 1977\n",
        "Born\tChandra Mohan Jain\n",
        "\n",
        "11 December 1931\n",
        "Kuchwada, Bhopal State, British India\n",
        "Died\t19 January 1990 (aged 58)\n",
        "Pune, Maharashtra, India\n",
        "Nationality\tIndian\n",
        "Education\tDr. Hari Singh Gour University (MA)\n",
        "Known for\tSpirituality, mysticism, anti-religion[1]\n",
        "Movement\tNeo-sannyasins[1]\n",
        "Memorial(s)\tOsho International Meditation Resort, Pune\n",
        "Website\tosho.com\n",
        "\n",
        "Rajneesh (born Chandra Mohan Jain; 11 December 1931 – 19 January 1990), also known as Acharya Rajneesh,[2] Bhagwan Shree Rajneesh,[1] and later as Osho (Hindi pronunciation: [ˈo:ʃo:]), was an Indian Godman,[3] philosopher, mystic, and founder of the Rajneesh movement.[1] He was viewed as a controversial new religious movement leader during his life. He rejected institutional religions,[4][1][5] insisting that spiritual experience could not be organized into any one system of religious dogma.[6] As a guru, he advocated meditation and taught a unique form called dynamic meditation. Rejecting traditional ascetic practices, he advocated that his followers live fully in the world but without attachment to it.[6] In expressing a more progressive attitude to sexuality[7] he caused controversy in India during the late 1960s and became known as \"the sex guru\".[1][8][9] \"\"\""
      ],
      "metadata": {
        "id": "In9dpCu4bgaS"
      },
      "execution_count": 162,
      "outputs": []
    },
    {
      "cell_type": "code",
      "source": [
        "# Tokenization\n",
        "# cnvert paragraph into sentences\n",
        "sentences = nltk.sent_tokenize(paragraph)\n",
        "print(sentences)\n",
        "\n"
      ],
      "metadata": {
        "colab": {
          "base_uri": "https://localhost:8080/"
        },
        "id": "2R_s8DOmcMSn",
        "outputId": "0b5697b7-fa1b-4cbd-e980-2c0fddd7b3ef"
      },
      "execution_count": 163,
      "outputs": [
        {
          "output_type": "stream",
          "name": "stdout",
          "text": [
            "['Osho\" redirects here.', 'For other uses, see Rajneesh (disambiguation) and Osho (disambiguation).', 'Bhagwan Shree Rajneesh\\nRajneesh c. 1977\\nBorn\\tChandra Mohan Jain\\n\\n11 December 1931\\nKuchwada, Bhopal State, British India\\nDied\\t19 January 1990 (aged 58)\\nPune, Maharashtra, India\\nNationality\\tIndian\\nEducation\\tDr. Hari Singh Gour University (MA)\\nKnown for\\tSpirituality, mysticism, anti-religion[1]\\nMovement\\tNeo-sannyasins[1]\\nMemorial(s)\\tOsho International Meditation Resort, Pune\\nWebsite\\tosho.com\\n\\nRajneesh (born Chandra Mohan Jain; 11 December 1931 – 19 January 1990), also known as Acharya Rajneesh,[2] Bhagwan Shree Rajneesh,[1] and later as Osho (Hindi pronunciation: [ˈo:ʃo:]), was an Indian Godman,[3] philosopher, mystic, and founder of the Rajneesh movement.', '[1] He was viewed as a controversial new religious movement leader during his life.', 'He rejected institutional religions,[4][1][5] insisting that spiritual experience could not be organized into any one system of religious dogma.', '[6] As a guru, he advocated meditation and taught a unique form called dynamic meditation.', 'Rejecting traditional ascetic practices, he advocated that his followers live fully in the world but without attachment to it.', '[6] In expressing a more progressive attitude to sexuality[7] he caused controversy in India during the late 1960s and became known as \"the sex guru\".', '[1][8][9]']\n"
          ]
        }
      ]
    },
    {
      "cell_type": "code",
      "source": [
        "len(sentences)"
      ],
      "metadata": {
        "colab": {
          "base_uri": "https://localhost:8080/"
        },
        "id": "J5ZXnwO0roS9",
        "outputId": "0756a374-6a71-403f-bfae-fb270a88b0fb"
      },
      "execution_count": 164,
      "outputs": [
        {
          "output_type": "execute_result",
          "data": {
            "text/plain": [
              "9"
            ]
          },
          "metadata": {},
          "execution_count": 164
        }
      ]
    },
    {
      "cell_type": "code",
      "source": [
        "# Split sentences into words\n",
        "for sentence in sentences:\n",
        "  words = nltk.word_tokenize(sentence)\n",
        "  print(words)"
      ],
      "metadata": {
        "colab": {
          "base_uri": "https://localhost:8080/"
        },
        "id": "AQrFKWxvw4Z6",
        "outputId": "51c963e2-0606-4145-e96f-1752d7d3802a"
      },
      "execution_count": 165,
      "outputs": [
        {
          "output_type": "stream",
          "name": "stdout",
          "text": [
            "['Osho', \"''\", 'redirects', 'here', '.']\n",
            "['For', 'other', 'uses', ',', 'see', 'Rajneesh', '(', 'disambiguation', ')', 'and', 'Osho', '(', 'disambiguation', ')', '.']\n",
            "['Bhagwan', 'Shree', 'Rajneesh', 'Rajneesh', 'c.', '1977', 'Born', 'Chandra', 'Mohan', 'Jain', '11', 'December', '1931', 'Kuchwada', ',', 'Bhopal', 'State', ',', 'British', 'India', 'Died', '19', 'January', '1990', '(', 'aged', '58', ')', 'Pune', ',', 'Maharashtra', ',', 'India', 'Nationality', 'Indian', 'Education', 'Dr.', 'Hari', 'Singh', 'Gour', 'University', '(', 'MA', ')', 'Known', 'for', 'Spirituality', ',', 'mysticism', ',', 'anti-religion', '[', '1', ']', 'Movement', 'Neo-sannyasins', '[', '1', ']', 'Memorial', '(', 's', ')', 'Osho', 'International', 'Meditation', 'Resort', ',', 'Pune', 'Website', 'osho.com', 'Rajneesh', '(', 'born', 'Chandra', 'Mohan', 'Jain', ';', '11', 'December', '1931', '–', '19', 'January', '1990', ')', ',', 'also', 'known', 'as', 'Acharya', 'Rajneesh', ',', '[', '2', ']', 'Bhagwan', 'Shree', 'Rajneesh', ',', '[', '1', ']', 'and', 'later', 'as', 'Osho', '(', 'Hindi', 'pronunciation', ':', '[', 'ˈo', ':', 'ʃo', ':', ']', ')', ',', 'was', 'an', 'Indian', 'Godman', ',', '[', '3', ']', 'philosopher', ',', 'mystic', ',', 'and', 'founder', 'of', 'the', 'Rajneesh', 'movement', '.']\n",
            "['[', '1', ']', 'He', 'was', 'viewed', 'as', 'a', 'controversial', 'new', 'religious', 'movement', 'leader', 'during', 'his', 'life', '.']\n",
            "['He', 'rejected', 'institutional', 'religions', ',', '[', '4', ']', '[', '1', ']', '[', '5', ']', 'insisting', 'that', 'spiritual', 'experience', 'could', 'not', 'be', 'organized', 'into', 'any', 'one', 'system', 'of', 'religious', 'dogma', '.']\n",
            "['[', '6', ']', 'As', 'a', 'guru', ',', 'he', 'advocated', 'meditation', 'and', 'taught', 'a', 'unique', 'form', 'called', 'dynamic', 'meditation', '.']\n",
            "['Rejecting', 'traditional', 'ascetic', 'practices', ',', 'he', 'advocated', 'that', 'his', 'followers', 'live', 'fully', 'in', 'the', 'world', 'but', 'without', 'attachment', 'to', 'it', '.']\n",
            "['[', '6', ']', 'In', 'expressing', 'a', 'more', 'progressive', 'attitude', 'to', 'sexuality', '[', '7', ']', 'he', 'caused', 'controversy', 'in', 'India', 'during', 'the', 'late', '1960s', 'and', 'became', 'known', 'as', '``', 'the', 'sex', 'guru', \"''\", '.']\n",
            "['[', '1', ']', '[', '8', ']', '[', '9', ']']\n"
          ]
        }
      ]
    },
    {
      "cell_type": "code",
      "source": [
        "# clean the text using re\n",
        "import re\n",
        "for i in range(len(sentences)):\n",
        "  stop_words = set (stopwords.words('english'))\n",
        "  cleaned_text = re.sub('[^a-zA-Z]', \" \", sentences[i])\n",
        "  cleaned_text = cleaned_text.lower()\n",
        "  cleaned_text = cleaned_text.split()\n",
        "  cleaned_text = [word for word in cleaned_text if word not in stop_words]\n",
        "  print(cleaned_text)\n",
        "\n",
        "\n"
      ],
      "metadata": {
        "colab": {
          "base_uri": "https://localhost:8080/"
        },
        "id": "K6g2sREWxWEn",
        "outputId": "591fb6b7-3346-47eb-e521-ed14232db569"
      },
      "execution_count": 166,
      "outputs": [
        {
          "output_type": "stream",
          "name": "stdout",
          "text": [
            "['osho', 'redirects']\n",
            "['uses', 'see', 'rajneesh', 'disambiguation', 'osho', 'disambiguation']\n",
            "['bhagwan', 'shree', 'rajneesh', 'rajneesh', 'c', 'born', 'chandra', 'mohan', 'jain', 'december', 'kuchwada', 'bhopal', 'state', 'british', 'india', 'died', 'january', 'aged', 'pune', 'maharashtra', 'india', 'nationality', 'indian', 'education', 'dr', 'hari', 'singh', 'gour', 'university', 'known', 'spirituality', 'mysticism', 'anti', 'religion', 'movement', 'neo', 'sannyasins', 'memorial', 'osho', 'international', 'meditation', 'resort', 'pune', 'website', 'osho', 'com', 'rajneesh', 'born', 'chandra', 'mohan', 'jain', 'december', 'january', 'also', 'known', 'acharya', 'rajneesh', 'bhagwan', 'shree', 'rajneesh', 'later', 'osho', 'hindi', 'pronunciation', 'indian', 'godman', 'philosopher', 'mystic', 'founder', 'rajneesh', 'movement']\n",
            "['viewed', 'controversial', 'new', 'religious', 'movement', 'leader', 'life']\n",
            "['rejected', 'institutional', 'religions', 'insisting', 'spiritual', 'experience', 'could', 'organized', 'one', 'system', 'religious', 'dogma']\n",
            "['guru', 'advocated', 'meditation', 'taught', 'unique', 'form', 'called', 'dynamic', 'meditation']\n",
            "['rejecting', 'traditional', 'ascetic', 'practices', 'advocated', 'followers', 'live', 'fully', 'world', 'without', 'attachment']\n",
            "['expressing', 'progressive', 'attitude', 'sexuality', 'caused', 'controversy', 'india', 'late', 'became', 'known', 'sex', 'guru']\n",
            "[]\n"
          ]
        }
      ]
    },
    {
      "cell_type": "code",
      "source": [
        "len(sentences)"
      ],
      "metadata": {
        "colab": {
          "base_uri": "https://localhost:8080/"
        },
        "id": "tn6sfHkA4xOS",
        "outputId": "3e52d80f-5e51-4453-9f48-936c46a23b4a"
      },
      "execution_count": 167,
      "outputs": [
        {
          "output_type": "execute_result",
          "data": {
            "text/plain": [
              "9"
            ]
          },
          "metadata": {},
          "execution_count": 167
        }
      ]
    },
    {
      "cell_type": "code",
      "source": [
        "#apply stemming\n",
        "\n",
        "stemmer = PorterStemmer()\n",
        "\n",
        "for i in range(len(sentences)):\n",
        "\n",
        "  for word in words:\n",
        "    if word not in set(stopwords.words('english')):\n",
        "      stemmed_words = stemmer.stem(word)\n",
        "      print(stemmed_words)"
      ],
      "metadata": {
        "colab": {
          "base_uri": "https://localhost:8080/"
        },
        "id": "nETPpBWR1pPj",
        "outputId": "c5af5cab-f202-4e43-d451-0aa49a75684a"
      },
      "execution_count": 168,
      "outputs": [
        {
          "output_type": "stream",
          "name": "stdout",
          "text": [
            "[\n",
            "1\n",
            "]\n",
            "[\n",
            "8\n",
            "]\n",
            "[\n",
            "9\n",
            "]\n",
            "[\n",
            "1\n",
            "]\n",
            "[\n",
            "8\n",
            "]\n",
            "[\n",
            "9\n",
            "]\n",
            "[\n",
            "1\n",
            "]\n",
            "[\n",
            "8\n",
            "]\n",
            "[\n",
            "9\n",
            "]\n",
            "[\n",
            "1\n",
            "]\n",
            "[\n",
            "8\n",
            "]\n",
            "[\n",
            "9\n",
            "]\n",
            "[\n",
            "1\n",
            "]\n",
            "[\n",
            "8\n",
            "]\n",
            "[\n",
            "9\n",
            "]\n",
            "[\n",
            "1\n",
            "]\n",
            "[\n",
            "8\n",
            "]\n",
            "[\n",
            "9\n",
            "]\n",
            "[\n",
            "1\n",
            "]\n",
            "[\n",
            "8\n",
            "]\n",
            "[\n",
            "9\n",
            "]\n",
            "[\n",
            "1\n",
            "]\n",
            "[\n",
            "8\n",
            "]\n",
            "[\n",
            "9\n",
            "]\n",
            "[\n",
            "1\n",
            "]\n",
            "[\n",
            "8\n",
            "]\n",
            "[\n",
            "9\n",
            "]\n"
          ]
        }
      ]
    },
    {
      "cell_type": "code",
      "source": [
        "# Apply lemmatization\n",
        "\n",
        "lemmatizer = WordNetLemmatizer()\n",
        "\n",
        "for i in range(len(sentences)):\n",
        "  for word in words:\n",
        "    if word not in set(stopwords.words('english')):\n",
        "      lemmatized_word = lemmatizer.lemmatize(word)\n",
        "      print(lemmatized_word)"
      ],
      "metadata": {
        "colab": {
          "base_uri": "https://localhost:8080/"
        },
        "id": "b_B9kDg_3XST",
        "outputId": "f47fc2b2-660c-4dcd-d2cd-d8791393aebe"
      },
      "execution_count": 169,
      "outputs": [
        {
          "output_type": "stream",
          "name": "stdout",
          "text": [
            "[\n",
            "1\n",
            "]\n",
            "[\n",
            "8\n",
            "]\n",
            "[\n",
            "9\n",
            "]\n",
            "[\n",
            "1\n",
            "]\n",
            "[\n",
            "8\n",
            "]\n",
            "[\n",
            "9\n",
            "]\n",
            "[\n",
            "1\n",
            "]\n",
            "[\n",
            "8\n",
            "]\n",
            "[\n",
            "9\n",
            "]\n",
            "[\n",
            "1\n",
            "]\n",
            "[\n",
            "8\n",
            "]\n",
            "[\n",
            "9\n",
            "]\n",
            "[\n",
            "1\n",
            "]\n",
            "[\n",
            "8\n",
            "]\n",
            "[\n",
            "9\n",
            "]\n",
            "[\n",
            "1\n",
            "]\n",
            "[\n",
            "8\n",
            "]\n",
            "[\n",
            "9\n",
            "]\n",
            "[\n",
            "1\n",
            "]\n",
            "[\n",
            "8\n",
            "]\n",
            "[\n",
            "9\n",
            "]\n",
            "[\n",
            "1\n",
            "]\n",
            "[\n",
            "8\n",
            "]\n",
            "[\n",
            "9\n",
            "]\n",
            "[\n",
            "1\n",
            "]\n",
            "[\n",
            "8\n",
            "]\n",
            "[\n",
            "9\n",
            "]\n"
          ]
        }
      ]
    },
    {
      "cell_type": "code",
      "source": [
        "#Apply BOW\n",
        "# CountVectorizer --> Convert a collection of text documents to a matrix of token counts.\n",
        "from sklearn.feature_extraction.text import CountVectorizer\n",
        "cv = CountVectorizer(binary=True, ngram_range = (2,3),max_features = 10)\n",
        "\n"
      ],
      "metadata": {
        "id": "aFihMeAH43-S"
      },
      "execution_count": 170,
      "outputs": []
    },
    {
      "cell_type": "code",
      "source": [
        "x = cv.fit_transform(sentences)\n"
      ],
      "metadata": {
        "id": "oVxYeoHdGpsI"
      },
      "execution_count": 171,
      "outputs": []
    },
    {
      "cell_type": "code",
      "source": [
        "print(x.toarray())"
      ],
      "metadata": {
        "colab": {
          "base_uri": "https://localhost:8080/"
        },
        "id": "-x31DVFCGFcq",
        "outputId": "d14a8ecf-00e2-4af9-bfea-4d641f0c5213"
      },
      "execution_count": 172,
      "outputs": [
        {
          "output_type": "stream",
          "name": "stdout",
          "text": [
            "[[0 0 0 0 0 0 0 0 0 0]\n",
            " [0 0 0 0 0 0 0 0 1 0]\n",
            " [1 0 1 0 0 0 1 1 0 1]\n",
            " [0 0 0 0 0 0 0 0 0 0]\n",
            " [0 0 0 1 1 1 0 0 0 0]\n",
            " [0 1 0 0 0 0 0 0 0 0]\n",
            " [0 1 0 0 0 0 0 0 0 0]\n",
            " [0 0 1 0 0 0 0 0 0 0]\n",
            " [0 0 0 0 0 0 0 0 0 0]]\n"
          ]
        }
      ]
    },
    {
      "cell_type": "code",
      "source": [
        "x[0].toarray()"
      ],
      "metadata": {
        "colab": {
          "base_uri": "https://localhost:8080/"
        },
        "id": "EURfmpYEfMos",
        "outputId": "f81e3741-5179-4cf5-a685-c7fd3afa5b01"
      },
      "execution_count": 173,
      "outputs": [
        {
          "output_type": "execute_result",
          "data": {
            "text/plain": [
              "array([[0, 0, 0, 0, 0, 0, 0, 0, 0, 0]])"
            ]
          },
          "metadata": {},
          "execution_count": 173
        }
      ]
    },
    {
      "cell_type": "code",
      "source": [
        "cv.vocabulary_"
      ],
      "metadata": {
        "id": "MzDgD_X_7EcQ",
        "colab": {
          "base_uri": "https://localhost:8080/"
        },
        "outputId": "0512fa49-0a2a-4dbb-fee9-7662ad7ee380"
      },
      "execution_count": 174,
      "outputs": [
        {
          "output_type": "execute_result",
          "data": {
            "text/plain": [
              "{'osho disambiguation': 8,\n",
              " '11 december': 0,\n",
              " 'osho com': 6,\n",
              " 'known as': 2,\n",
              " 'osho hindi': 9,\n",
              " 'osho com rajneesh': 7,\n",
              " 'organized into': 4,\n",
              " 'organized into any': 5,\n",
              " 'one system of': 3,\n",
              " 'he advocated': 1}"
            ]
          },
          "metadata": {},
          "execution_count": 174
        }
      ]
    },
    {
      "cell_type": "code",
      "source": [
        "# Apply TF-IDF\n",
        "from sklearn.feature_extraction.text import TfidfVectorizer\n",
        "cv = TfidfVectorizer()\n",
        "x = cv.fit_transform(sentences)\n"
      ],
      "metadata": {
        "id": "A_C4Qf597Z8r"
      },
      "execution_count": 175,
      "outputs": []
    },
    {
      "cell_type": "code",
      "source": [
        "sentences[6]"
      ],
      "metadata": {
        "colab": {
          "base_uri": "https://localhost:8080/",
          "height": 35
        },
        "id": "kobDh0ZRskBE",
        "outputId": "26701536-3553-4d1e-e1d1-16d9e92391d5"
      },
      "execution_count": 176,
      "outputs": [
        {
          "output_type": "execute_result",
          "data": {
            "text/plain": [
              "'Rejecting traditional ascetic practices, he advocated that his followers live fully in the world but without attachment to it.'"
            ],
            "application/vnd.google.colaboratory.intrinsic+json": {
              "type": "string"
            }
          },
          "metadata": {},
          "execution_count": 176
        }
      ]
    },
    {
      "cell_type": "code",
      "source": [
        "x[0]"
      ],
      "metadata": {
        "colab": {
          "base_uri": "https://localhost:8080/"
        },
        "id": "PYfTd4zGtXTh",
        "outputId": "e05410ec-310c-41a5-b287-d0297df8be03"
      },
      "execution_count": 177,
      "outputs": [
        {
          "output_type": "execute_result",
          "data": {
            "text/plain": [
              "<1x129 sparse matrix of type '<class 'numpy.float64'>'\n",
              "\twith 3 stored elements in Compressed Sparse Row format>"
            ]
          },
          "metadata": {},
          "execution_count": 177
        }
      ]
    },
    {
      "cell_type": "code",
      "source": [
        "x[0].toarray()"
      ],
      "metadata": {
        "colab": {
          "base_uri": "https://localhost:8080/"
        },
        "id": "X4wZ2YoLte9o",
        "outputId": "1cd80ee5-c58b-47ef-8882-81ea25520a68"
      },
      "execution_count": 178,
      "outputs": [
        {
          "output_type": "execute_result",
          "data": {
            "text/plain": [
              "array([[0.        , 0.        , 0.        , 0.        , 0.        ,\n",
              "        0.        , 0.        , 0.        , 0.        , 0.        ,\n",
              "        0.        , 0.        , 0.        , 0.        , 0.        ,\n",
              "        0.        , 0.        , 0.        , 0.        , 0.        ,\n",
              "        0.        , 0.        , 0.        , 0.        , 0.        ,\n",
              "        0.        , 0.        , 0.        , 0.        , 0.        ,\n",
              "        0.        , 0.        , 0.        , 0.        , 0.        ,\n",
              "        0.        , 0.        , 0.        , 0.        , 0.        ,\n",
              "        0.        , 0.        , 0.        , 0.        , 0.        ,\n",
              "        0.        , 0.        , 0.        , 0.        , 0.        ,\n",
              "        0.        , 0.        , 0.        , 0.62754252, 0.        ,\n",
              "        0.        , 0.        , 0.        , 0.        , 0.        ,\n",
              "        0.        , 0.        , 0.        , 0.        , 0.        ,\n",
              "        0.        , 0.        , 0.        , 0.        , 0.        ,\n",
              "        0.        , 0.        , 0.        , 0.        , 0.        ,\n",
              "        0.        , 0.        , 0.        , 0.        , 0.        ,\n",
              "        0.        , 0.        , 0.        , 0.        , 0.        ,\n",
              "        0.        , 0.        , 0.        , 0.        , 0.46084788,\n",
              "        0.        , 0.        , 0.        , 0.        , 0.        ,\n",
              "        0.        , 0.        , 0.62754252, 0.        , 0.        ,\n",
              "        0.        , 0.        , 0.        , 0.        , 0.        ,\n",
              "        0.        , 0.        , 0.        , 0.        , 0.        ,\n",
              "        0.        , 0.        , 0.        , 0.        , 0.        ,\n",
              "        0.        , 0.        , 0.        , 0.        , 0.        ,\n",
              "        0.        , 0.        , 0.        , 0.        , 0.        ,\n",
              "        0.        , 0.        , 0.        , 0.        ]])"
            ]
          },
          "metadata": {},
          "execution_count": 178
        }
      ]
    },
    {
      "cell_type": "code",
      "source": [
        "print(x.toarray())"
      ],
      "metadata": {
        "colab": {
          "base_uri": "https://localhost:8080/"
        },
        "id": "_HTplqwktvXy",
        "outputId": "2d8cfdc5-2bea-4ad1-dd8e-5e7b1ed92d37"
      },
      "execution_count": 179,
      "outputs": [
        {
          "output_type": "stream",
          "name": "stdout",
          "text": [
            "[[0.         0.         0.         ... 0.         0.         0.        ]\n",
            " [0.         0.         0.         ... 0.         0.         0.        ]\n",
            " [0.16792106 0.16792106 0.16792106 ... 0.         0.08396053 0.08396053]\n",
            " ...\n",
            " [0.         0.         0.         ... 0.2466213  0.         0.        ]\n",
            " [0.         0.         0.         ... 0.         0.         0.        ]\n",
            " [0.         0.         0.         ... 0.         0.         0.        ]]\n"
          ]
        }
      ]
    },
    {
      "cell_type": "code",
      "source": [
        "cv.vocabulary_"
      ],
      "metadata": {
        "colab": {
          "base_uri": "https://localhost:8080/"
        },
        "id": "DcnN3sArtzi-",
        "outputId": "14c2ebc1-1a7b-44c4-cf36-993b29ca2032"
      },
      "execution_count": 180,
      "outputs": [
        {
          "output_type": "execute_result",
          "data": {
            "text/plain": [
              "{'osho': 89,\n",
              " 'redirects': 97,\n",
              " 'here': 53,\n",
              " 'for': 44,\n",
              " 'other': 90,\n",
              " 'uses': 121,\n",
              " 'see': 105,\n",
              " 'rajneesh': 96,\n",
              " 'disambiguation': 35,\n",
              " 'and': 12,\n",
              " 'bhagwan': 21,\n",
              " 'shree': 108,\n",
              " '1977': 4,\n",
              " 'born': 23,\n",
              " 'chandra': 28,\n",
              " 'mohan': 77,\n",
              " 'jain': 64,\n",
              " '11': 0,\n",
              " 'december': 33,\n",
              " '1931': 2,\n",
              " 'kuchwada': 67,\n",
              " 'bhopal': 22,\n",
              " 'state': 112,\n",
              " 'british': 24,\n",
              " 'india': 57,\n",
              " 'died': 34,\n",
              " '19': 1,\n",
              " 'january': 65,\n",
              " '1990': 5,\n",
              " 'aged': 9,\n",
              " '58': 6,\n",
              " 'pune': 95,\n",
              " 'maharashtra': 74,\n",
              " 'nationality': 82,\n",
              " 'indian': 58,\n",
              " 'education': 40,\n",
              " 'dr': 37,\n",
              " 'hari': 51,\n",
              " 'singh': 109,\n",
              " 'gour': 49,\n",
              " 'university': 120,\n",
              " 'ma': 73,\n",
              " 'known': 66,\n",
              " 'spirituality': 111,\n",
              " 'mysticism': 81,\n",
              " 'anti': 13,\n",
              " 'religion': 100,\n",
              " 'movement': 79,\n",
              " 'neo': 83,\n",
              " 'sannyasins': 104,\n",
              " 'memorial': 76,\n",
              " 'international': 61,\n",
              " 'meditation': 75,\n",
              " 'resort': 103,\n",
              " 'website': 124,\n",
              " 'com': 29,\n",
              " 'also': 10,\n",
              " 'as': 15,\n",
              " 'acharya': 7,\n",
              " 'later': 69,\n",
              " 'hindi': 54,\n",
              " 'pronunciation': 94,\n",
              " 'ˈo': 128,\n",
              " 'ʃo': 127,\n",
              " 'was': 123,\n",
              " 'an': 11,\n",
              " 'godman': 48,\n",
              " 'philosopher': 91,\n",
              " 'mystic': 80,\n",
              " 'founder': 46,\n",
              " 'of': 86,\n",
              " 'the': 116,\n",
              " 'he': 52,\n",
              " 'viewed': 122,\n",
              " 'controversial': 30,\n",
              " 'new': 84,\n",
              " 'religious': 102,\n",
              " 'leader': 70,\n",
              " 'during': 38,\n",
              " 'his': 55,\n",
              " 'life': 71,\n",
              " 'rejected': 98,\n",
              " 'institutional': 60,\n",
              " 'religions': 101,\n",
              " 'insisting': 59,\n",
              " 'that': 115,\n",
              " 'spiritual': 110,\n",
              " 'experience': 41,\n",
              " 'could': 32,\n",
              " 'not': 85,\n",
              " 'be': 19,\n",
              " 'organized': 88,\n",
              " 'into': 62,\n",
              " 'any': 14,\n",
              " 'one': 87,\n",
              " 'system': 113,\n",
              " 'dogma': 36,\n",
              " 'guru': 50,\n",
              " 'advocated': 8,\n",
              " 'taught': 114,\n",
              " 'unique': 119,\n",
              " 'form': 45,\n",
              " 'called': 26,\n",
              " 'dynamic': 39,\n",
              " 'rejecting': 99,\n",
              " 'traditional': 118,\n",
              " 'ascetic': 16,\n",
              " 'practices': 92,\n",
              " 'followers': 43,\n",
              " 'live': 72,\n",
              " 'fully': 47,\n",
              " 'in': 56,\n",
              " 'world': 126,\n",
              " 'but': 25,\n",
              " 'without': 125,\n",
              " 'attachment': 17,\n",
              " 'to': 117,\n",
              " 'it': 63,\n",
              " 'expressing': 42,\n",
              " 'more': 78,\n",
              " 'progressive': 93,\n",
              " 'attitude': 18,\n",
              " 'sexuality': 107,\n",
              " 'caused': 27,\n",
              " 'controversy': 31,\n",
              " 'late': 68,\n",
              " '1960s': 3,\n",
              " 'became': 20,\n",
              " 'sex': 106}"
            ]
          },
          "metadata": {},
          "execution_count": 180
        }
      ]
    }
  ]
}